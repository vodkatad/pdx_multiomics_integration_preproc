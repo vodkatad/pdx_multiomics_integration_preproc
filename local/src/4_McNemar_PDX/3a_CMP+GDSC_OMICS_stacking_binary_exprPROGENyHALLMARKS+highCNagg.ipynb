{
 "cells": [
  {
   "cell_type": "markdown",
   "source": [
    "# Introduction\n",
    "State notebook purpose here"
   ],
   "metadata": {}
  },
  {
   "cell_type": "markdown",
   "source": [
    "### Imports\n",
    "Import libraries and write settings here."
   ],
   "metadata": {}
  },
  {
   "cell_type": "code",
   "execution_count": 55,
   "source": [
    "# Data manipulation\n",
    "import pandas as pd\n",
    "import numpy as np\n",
    "import warnings\n",
    "\n",
    "# Options for pandas\n",
    "# No warnings about setting value on copy of slice\n",
    "pd.options.mode.chained_assignment = None\n",
    "pd.options.display.max_columns = 600\n",
    "pd.options.display.max_rows = 30\n",
    "\n",
    "# Display all cell outputs\n",
    "from IPython.core.interactiveshell import InteractiveShell\n",
    "InteractiveShell.ast_node_interactivity = 'all'\n",
    "\n",
    "from IPython import get_ipython\n",
    "ipython = get_ipython()\n",
    "\n",
    "# autoreload extension\n",
    "if 'autoreload' not in ipython.extension_manager.loaded:\n",
    "    get_ipython().run_line_magic('load_ext', 'autoreload')\n",
    "\n",
    "get_ipython().run_line_magic('autoreload', '2')\n",
    "\n",
    "\n",
    "# scalers\n",
    "from sklearn.preprocessing import StandardScaler, MinMaxScaler\n",
    "\n",
    "# models\n",
    "from sklearn.svm import LinearSVC, SVC\n",
    "from sklearn.linear_model import LogisticRegression\n",
    "from sklearn.neighbors import KNeighborsClassifier\n",
    "from sklearn.naive_bayes import GaussianNB \n",
    "from sklearn.ensemble import RandomForestClassifier, ExtraTreesClassifier\n",
    "from mlxtend.classifier import StackingClassifier, StackingCVClassifier\n",
    "from mlxtend.classifier import LogisticRegression as extLogisticRegression\n",
    "# xgboost\n",
    "from xgboost import XGBClassifier\n",
    "\n",
    "# processing\n",
    "from sklearn.preprocessing import label_binarize\n",
    "from sklearn.model_selection import StratifiedKFold\n",
    "from sklearn.pipeline import Pipeline\n",
    "from mlxtend.feature_selection import ColumnSelector\n",
    "from sklearn import model_selection\n",
    "\n",
    "# feature selection\n",
    "from sklearn.feature_selection import f_classif, SelectKBest, VarianceThreshold, chi2\n",
    "\n",
    "# feature agglomeration\n",
    "from sklearn.cluster import FeatureAgglomeration\n",
    "\n",
    "# benchmark\n",
    "from sklearn.multiclass import OneVsRestClassifier\n",
    "from sklearn.metrics import roc_curve, multilabel_confusion_matrix, auc, matthews_corrcoef, roc_auc_score, accuracy_score, classification_report, confusion_matrix, plot_confusion_matrix\n",
    "# Hyperparameter tuning\n",
    "from sklearn.model_selection import RandomizedSearchCV, GridSearchCV\n",
    "\n",
    "import pickle\n",
    "\n",
    "# Visualizations\n",
    "import matplotlib.pyplot as plt\n",
    "# Set default font size\n",
    "plt.rcParams['font.size'] = 24\n",
    "import seaborn as sb\n",
    "# Set default font size\n",
    "sb.set(font_scale = .8)\n",
    "custom_style = {'axes.labelcolor': 'black',\n",
    "                'xtick.color': 'black',\n",
    "                'ytick.color': 'black'}\n",
    "sb.set_style(\"white\", rc=custom_style)\n",
    "\n",
    "# Interactive Visualizations\n",
    "# import plotly.plotly as py\n",
    "# import plotly.graph_objs as go\n",
    "# from plotly.offline import iplot, init_notebook_mode\n",
    "# init_notebook_mode(connected=True)\n",
    "\n",
    "# import cufflinks as cf\n",
    "# cf.go_offline(connected=True)\n",
    "# icf.set_config_file(theme='white')"
   ],
   "outputs": [],
   "metadata": {}
  },
  {
   "cell_type": "markdown",
   "source": [
    "# Analysis/Modeling\n",
    "Do work here"
   ],
   "metadata": {}
  },
  {
   "cell_type": "code",
   "execution_count": 56,
   "source": [
    "# target catagorical variable is a binary split of \n",
    "# Cetuximab IC50 on CRC lines values by their median\n",
    "target_col =  \"IC50_byMedian_cat\"\n",
    "\n",
    "\n",
    "# encoded expr data w/t progeny pathway scores + msdb hallmarks ssGSEA scores\n",
    "# colinearity filter + chi2\n",
    "f = 'tables/CMP+GDSC_preprocessed_features/exprPath_PROGENy+HALLMARK.tsv'\n",
    "Expr = pd.read_csv(f, sep=\"\\t\", header=0, index_col=0)\n",
    "Expr = Expr[Expr.columns.drop(list(Expr.filter(regex='Cetuximab')))]\n",
    "Expr.columns = [c + \"_expr\" for c in Expr.columns]\n",
    "\n",
    "# feature agglomeration CNV, input includes highGain features\n",
    "f = \"tables/CMP+GDSC_preprocessed_features/highCN.tsv\"\n",
    "CNV = pd.read_csv(f, sep=\"\\t\", header=0, index_col=0)\n",
    "CNV = CNV[CNV.columns.drop(list(CNV.filter(regex='Cetuximab')))]\n",
    "CNV.columns = [c + \"_cnv\" for c in CNV.columns]\n",
    "\n",
    "# custom mut feature cross w/t top 20 features by chi2\n",
    "f = \"tables/CMP+GDSC_preprocessed_features/mut_ComboMulti.tsv\"\n",
    "Mut = pd.read_csv(f, sep=\"\\t\", header=0, index_col=0)\n",
    "Mut = Mut[Mut.columns.drop(list(Mut.filter(regex='Cetuximab')))]\n",
    "Mut.columns = [c + \"_mut\" for c in Mut.columns]\n",
    "\n",
    "# load drug response data (GDSC Cetuximab CRC lines screen)\n",
    "f =  'tables/DrugResponse_CMP+GDSC_CRCcetuximab_trainTest.csv'\n",
    "Y = pd.read_csv(f, \n",
    "sep=\"\\t\", index_col=None).set_index('SANGER_MODEL_ID')\n",
    "\n",
    "# feature blocks are in thisx order: mut, cnv, expr\n",
    "df1 = pd.merge(Mut, CNV, right_index=True, left_index=True, how=\"outer\")\n",
    "all_df = pd.merge(df1, Expr, right_index=True, left_index=True, how=\"outer\")\n",
    "feature_col = all_df.columns.tolist()\n",
    "all_df =  all_df.select_dtypes([np.number])\n",
    "all_df = pd.merge(all_df, Y[target_col], right_index=True, left_index=True, how=\"right\")\n",
    "\n",
    "# drop duplicated instances (SANGER_MODEL_ID) from index\n",
    "all_df = all_df[~all_df.index.duplicated(keep='first')]\n",
    "# fillna in features with median imputation\n",
    "all_df[feature_col] = all_df[feature_col].\\\n",
    "        astype(float).apply(lambda col:col.fillna(col.median()))\n",
    "\n",
    "\n",
    "# train-test split\n",
    "train_models = Y[Y.is_test == False].index.unique()\n",
    "test_models = Y[Y.is_test == True].index.unique()\n",
    "X_train = all_df.loc[train_models, feature_col]\n",
    "y_train  = all_df.loc[train_models, target_col]\n",
    "X_test = all_df.loc[test_models, feature_col]\n",
    "y_test = all_df.loc[test_models, target_col]\n",
    "\n",
    "#scale features sapartaely\n",
    "scaler = MinMaxScaler().fit(X_train)\n",
    "X_train = pd.DataFrame(scaler.transform(X_train.values),\n",
    "          columns=X_train.columns, index=X_train.index)\n",
    "\n",
    "scaler = MinMaxScaler().fit(X_test)              \n",
    "X_test = pd.DataFrame(scaler.transform(X_test.values),\n",
    "          columns=X_test.columns, index=X_test.index)    \n",
    "X_train.shape\n",
    "X_test.shape\n",
    "\n",
    "\n",
    "\n",
    "# get indeces for feature subsets, one per OMIC\n",
    "Mut_indeces = list(range(0, Mut.shape[1]))\n",
    "pos = len(Mut_indeces)\n",
    "CNV_indeces = list(range(Mut_indeces[-1]+1, pos + CNV.shape[1]))\n",
    "pos += len(CNV_indeces)\n",
    "Expr_indeces = list(range(CNV_indeces[-1]+1, pos + Expr.shape[1]))"
   ],
   "outputs": [
    {
     "output_type": "execute_result",
     "data": {
      "text/plain": [
       "(31, 652)"
      ]
     },
     "metadata": {},
     "execution_count": 56
    },
    {
     "output_type": "execute_result",
     "data": {
      "text/plain": [
       "(13, 652)"
      ]
     },
     "metadata": {},
     "execution_count": 56
    }
   ],
   "metadata": {}
  },
  {
   "cell_type": "code",
   "execution_count": 57,
   "source": [
    "all_df.iloc[:,Mut_indeces[-1]+1]"
   ],
   "outputs": [
    {
     "output_type": "execute_result",
     "data": {
      "text/plain": [
       "SANGER_MODEL_ID\n",
       "SIDM00783    0.0\n",
       "SIDM00136    1.0\n",
       "SIDM00826    0.0\n",
       "SIDM00841    1.0\n",
       "SIDM00118    1.0\n",
       "            ... \n",
       "SIDM00214    0.0\n",
       "SIDM00194    0.0\n",
       "SIDM00193    0.0\n",
       "SIDM00498    0.0\n",
       "SIDM00049    0.0\n",
       "Name: ABCB1_Gain_cnv, Length: 44, dtype: float64"
      ]
     },
     "metadata": {},
     "execution_count": 57
    }
   ],
   "metadata": {}
  },
  {
   "cell_type": "code",
   "execution_count": 58,
   "source": [
    "# pipeline to train a classifier on expression data alone\n",
    "pipe_steps = [\n",
    "    (\"ColumnSelector\", ColumnSelector(cols=Expr_indeces)),\n",
    "    (\"chi2filterFscore\", SelectKBest(chi2)), \n",
    "    ('RFClassifier', RandomForestClassifier(criterion='gini', class_weight='balanced')),\n",
    "]\n",
    "pipeExpr = Pipeline(pipe_steps)\n",
    "\n",
    "# pipeline to train a classifier on mutation data alone\n",
    "pipe_steps = [\n",
    "    (\"ColumnSelector\", ColumnSelector(cols=Mut_indeces)),\n",
    "    (\"chi2filterFscore\", SelectKBest(chi2)), # univariate filter on chi2 stat\n",
    "    ('RFClassifier', RandomForestClassifier(criterion='gini', class_weight='balanced')),\n",
    "]\n",
    "pipeMut = Pipeline(pipe_steps)\n",
    "\n",
    "# pipeline to train a classifier on CNV data alone\n",
    "pipe_steps = [\n",
    "    (\"ColumnSelector\", ColumnSelector(cols=CNV_indeces)),\n",
    "     # remove samples which have the same val in 85% or more samples\n",
    "    (\"VarianceFilter\", VarianceThreshold(threshold=(.75 * (1 - .75)))),\n",
    "    (\"WardAgg\", FeatureAgglomeration()), # Ward feature agglomeration by mean\n",
    "    (\"chi2filterFscore\", SelectKBest(chi2)), \n",
    "    ('RFClassifier', RandomForestClassifier(criterion='gini', class_weight='balanced')),\n",
    "]\n",
    "pipeCNV = Pipeline(pipe_steps)\n",
    "\n",
    "# build the meta classifier\n",
    "sclf = StackingCVClassifier(classifiers=[pipeExpr, pipeMut, pipeCNV], \n",
    "                          cv=3, random_state=13, verbose=1,\n",
    "                          #use_probas=True, #average_probas=False,\n",
    "                          #use_features_in_secondary=True,\n",
    "                          meta_classifier=LogisticRegression(penalty='l2', class_weight='balanced'))\n",
    "\n",
    "hyperparameter_grid = {\n",
    "          # Expr params \n",
    "          'pipeline-1__chi2filterFscore__k': [25],\n",
    "          'pipeline-1__RFClassifier__max_features' : [.2],\n",
    "          'pipeline-1__RFClassifier__min_samples_split' : [.4],\n",
    "          'pipeline-1__RFClassifier__n_estimators' : [15],\n",
    "          'pipeline-1__RFClassifier__max_depth' : [11],\n",
    "          #'pipeline-2__': [],\n",
    "          # Mut params\n",
    "          'pipeline-2__chi2filterFscore__k': [50],\n",
    "          'pipeline-2__RFClassifier__max_features' : [.2],\n",
    "          'pipeline-2__RFClassifier__min_samples_split' : [.01],\n",
    "          'pipeline-2__RFClassifier__n_estimators' : [15],\n",
    "          'pipeline-2__RFClassifier__max_depth' : [11],\n",
    "          #'pipeline-3__' : [],\n",
    "          # CNV params\n",
    "          'pipeline-3__WardAgg__n_clusters' : [40],\n",
    "          'pipeline-3__chi2filterFscore__k': [12],\n",
    "          'pipeline-3__RFClassifier__max_features' : [.4],\n",
    "          'pipeline-3__RFClassifier__min_samples_split' : [.4],\n",
    "          'pipeline-3__RFClassifier__n_estimators' : [10],\n",
    "          'pipeline-3__RFClassifier__max_depth' : [3],\n",
    "          # meta classifier params\n",
    "          'meta_classifier__C':  np.linspace(.01, .9, 10, endpoint=True)\n",
    "          }\n",
    "\n",
    "# Set up the random search with 4-fold stratified cross validation\n",
    "skf = StratifiedKFold(n_splits=4,shuffle=True,random_state=42)\n",
    "grid = GridSearchCV(estimator=sclf, \n",
    "                    param_grid=hyperparameter_grid, \n",
    "                    n_jobs=-1,\n",
    "                    cv=skf,\n",
    "                    refit=True,\n",
    "                    verbose=2)\n",
    "grid.fit(X_train, y_train)\n",
    "\n",
    "cv_keys = ('mean_test_score', 'std_test_score', 'params')\n",
    "\n",
    "for r, _ in enumerate(grid.cv_results_['mean_test_score']):\n",
    "    print(\"%0.3f +/- %0.2f %r\"\n",
    "          % (grid.cv_results_[cv_keys[0]][r],\n",
    "             grid.cv_results_[cv_keys[1]][r] / 2.0,\n",
    "             grid.cv_results_[cv_keys[2]][r]))\n"
   ],
   "outputs": [
    {
     "output_type": "stream",
     "name": "stdout",
     "text": [
      "Fitting 4 folds for each of 10 candidates, totalling 40 fits\n",
      "Fitting 3 classifiers...\n",
      "Fitting classifier1: pipeline (1/3)\n",
      "Fitting classifier2: pipeline (2/3)\n",
      "Fitting classifier3: pipeline (3/3)\n"
     ]
    },
    {
     "output_type": "stream",
     "name": "stderr",
     "text": [
      "[Parallel(n_jobs=1)]: Using backend SequentialBackend with 1 concurrent workers.\n",
      "[Parallel(n_jobs=1)]: Done   3 out of   3 | elapsed:    0.1s finished\n",
      "[Parallel(n_jobs=1)]: Using backend SequentialBackend with 1 concurrent workers.\n",
      "[Parallel(n_jobs=1)]: Done   3 out of   3 | elapsed:    0.1s finished\n",
      "[Parallel(n_jobs=1)]: Using backend SequentialBackend with 1 concurrent workers.\n",
      "[Parallel(n_jobs=1)]: Done   3 out of   3 | elapsed:    0.1s finished\n"
     ]
    },
    {
     "output_type": "execute_result",
     "data": {
      "text/plain": [
       "GridSearchCV(cv=StratifiedKFold(n_splits=4, random_state=42, shuffle=True),\n",
       "             estimator=StackingCVClassifier(classifiers=[Pipeline(steps=[('ColumnSelector',\n",
       "                                                                          ColumnSelector(cols=[619,\n",
       "                                                                                               620,\n",
       "                                                                                               621,\n",
       "                                                                                               622,\n",
       "                                                                                               623,\n",
       "                                                                                               624,\n",
       "                                                                                               625,\n",
       "                                                                                               626,\n",
       "                                                                                               627,\n",
       "                                                                                               628,\n",
       "                                                                                               629,\n",
       "                                                                                               630,\n",
       "                                                                                               631,\n",
       "                                                                                               632,\n",
       "                                                                                               633,\n",
       "                                                                                               634,\n",
       "                                                                                               635,\n",
       "                                                                                               636,\n",
       "                                                                                               637,\n",
       "                                                                                               638,\n",
       "                                                                                               639,\n",
       "                                                                                               640,\n",
       "                                                                                               641,\n",
       "                                                                                               642,\n",
       "                                                                                               643,\n",
       "                                                                                               644,\n",
       "                                                                                               645,\n",
       "                                                                                               646,\n",
       "                                                                                               647,\n",
       "                                                                                               648, ...])),\n",
       "                                                                         ('chi2filterFscore',\n",
       "                                                                          SelectKBest(score_func=<functio...\n",
       "                         'pipeline-2__RFClassifier__n_estimators': [15],\n",
       "                         'pipeline-2__chi2filterFscore__k': [50],\n",
       "                         'pipeline-3__RFClassifier__max_depth': [3],\n",
       "                         'pipeline-3__RFClassifier__max_features': [0.4],\n",
       "                         'pipeline-3__RFClassifier__min_samples_split': [0.4],\n",
       "                         'pipeline-3__RFClassifier__n_estimators': [10],\n",
       "                         'pipeline-3__WardAgg__n_clusters': [40],\n",
       "                         'pipeline-3__chi2filterFscore__k': [12]},\n",
       "             verbose=2)"
      ]
     },
     "metadata": {},
     "execution_count": 58
    },
    {
     "output_type": "stream",
     "name": "stdout",
     "text": [
      "0.674 +/- 0.04 {'meta_classifier__C': 0.01, 'pipeline-1__RFClassifier__max_depth': 11, 'pipeline-1__RFClassifier__max_features': 0.2, 'pipeline-1__RFClassifier__min_samples_split': 0.4, 'pipeline-1__RFClassifier__n_estimators': 15, 'pipeline-1__chi2filterFscore__k': 25, 'pipeline-2__RFClassifier__max_depth': 11, 'pipeline-2__RFClassifier__max_features': 0.2, 'pipeline-2__RFClassifier__min_samples_split': 0.01, 'pipeline-2__RFClassifier__n_estimators': 15, 'pipeline-2__chi2filterFscore__k': 50, 'pipeline-3__RFClassifier__max_depth': 3, 'pipeline-3__RFClassifier__max_features': 0.4, 'pipeline-3__RFClassifier__min_samples_split': 0.4, 'pipeline-3__RFClassifier__n_estimators': 10, 'pipeline-3__WardAgg__n_clusters': 40, 'pipeline-3__chi2filterFscore__k': 12}\n",
      "0.705 +/- 0.06 {'meta_classifier__C': 0.10888888888888888, 'pipeline-1__RFClassifier__max_depth': 11, 'pipeline-1__RFClassifier__max_features': 0.2, 'pipeline-1__RFClassifier__min_samples_split': 0.4, 'pipeline-1__RFClassifier__n_estimators': 15, 'pipeline-1__chi2filterFscore__k': 25, 'pipeline-2__RFClassifier__max_depth': 11, 'pipeline-2__RFClassifier__max_features': 0.2, 'pipeline-2__RFClassifier__min_samples_split': 0.01, 'pipeline-2__RFClassifier__n_estimators': 15, 'pipeline-2__chi2filterFscore__k': 50, 'pipeline-3__RFClassifier__max_depth': 3, 'pipeline-3__RFClassifier__max_features': 0.4, 'pipeline-3__RFClassifier__min_samples_split': 0.4, 'pipeline-3__RFClassifier__n_estimators': 10, 'pipeline-3__WardAgg__n_clusters': 40, 'pipeline-3__chi2filterFscore__k': 12}\n",
      "0.701 +/- 0.09 {'meta_classifier__C': 0.20777777777777778, 'pipeline-1__RFClassifier__max_depth': 11, 'pipeline-1__RFClassifier__max_features': 0.2, 'pipeline-1__RFClassifier__min_samples_split': 0.4, 'pipeline-1__RFClassifier__n_estimators': 15, 'pipeline-1__chi2filterFscore__k': 25, 'pipeline-2__RFClassifier__max_depth': 11, 'pipeline-2__RFClassifier__max_features': 0.2, 'pipeline-2__RFClassifier__min_samples_split': 0.01, 'pipeline-2__RFClassifier__n_estimators': 15, 'pipeline-2__chi2filterFscore__k': 50, 'pipeline-3__RFClassifier__max_depth': 3, 'pipeline-3__RFClassifier__max_features': 0.4, 'pipeline-3__RFClassifier__min_samples_split': 0.4, 'pipeline-3__RFClassifier__n_estimators': 10, 'pipeline-3__WardAgg__n_clusters': 40, 'pipeline-3__chi2filterFscore__k': 12}\n",
      "0.674 +/- 0.10 {'meta_classifier__C': 0.30666666666666664, 'pipeline-1__RFClassifier__max_depth': 11, 'pipeline-1__RFClassifier__max_features': 0.2, 'pipeline-1__RFClassifier__min_samples_split': 0.4, 'pipeline-1__RFClassifier__n_estimators': 15, 'pipeline-1__chi2filterFscore__k': 25, 'pipeline-2__RFClassifier__max_depth': 11, 'pipeline-2__RFClassifier__max_features': 0.2, 'pipeline-2__RFClassifier__min_samples_split': 0.01, 'pipeline-2__RFClassifier__n_estimators': 15, 'pipeline-2__chi2filterFscore__k': 50, 'pipeline-3__RFClassifier__max_depth': 3, 'pipeline-3__RFClassifier__max_features': 0.4, 'pipeline-3__RFClassifier__min_samples_split': 0.4, 'pipeline-3__RFClassifier__n_estimators': 10, 'pipeline-3__WardAgg__n_clusters': 40, 'pipeline-3__chi2filterFscore__k': 12}\n",
      "0.616 +/- 0.04 {'meta_classifier__C': 0.40555555555555556, 'pipeline-1__RFClassifier__max_depth': 11, 'pipeline-1__RFClassifier__max_features': 0.2, 'pipeline-1__RFClassifier__min_samples_split': 0.4, 'pipeline-1__RFClassifier__n_estimators': 15, 'pipeline-1__chi2filterFscore__k': 25, 'pipeline-2__RFClassifier__max_depth': 11, 'pipeline-2__RFClassifier__max_features': 0.2, 'pipeline-2__RFClassifier__min_samples_split': 0.01, 'pipeline-2__RFClassifier__n_estimators': 15, 'pipeline-2__chi2filterFscore__k': 50, 'pipeline-3__RFClassifier__max_depth': 3, 'pipeline-3__RFClassifier__max_features': 0.4, 'pipeline-3__RFClassifier__min_samples_split': 0.4, 'pipeline-3__RFClassifier__n_estimators': 10, 'pipeline-3__WardAgg__n_clusters': 40, 'pipeline-3__chi2filterFscore__k': 12}\n",
      "0.772 +/- 0.07 {'meta_classifier__C': 0.5044444444444445, 'pipeline-1__RFClassifier__max_depth': 11, 'pipeline-1__RFClassifier__max_features': 0.2, 'pipeline-1__RFClassifier__min_samples_split': 0.4, 'pipeline-1__RFClassifier__n_estimators': 15, 'pipeline-1__chi2filterFscore__k': 25, 'pipeline-2__RFClassifier__max_depth': 11, 'pipeline-2__RFClassifier__max_features': 0.2, 'pipeline-2__RFClassifier__min_samples_split': 0.01, 'pipeline-2__RFClassifier__n_estimators': 15, 'pipeline-2__chi2filterFscore__k': 50, 'pipeline-3__RFClassifier__max_depth': 3, 'pipeline-3__RFClassifier__max_features': 0.4, 'pipeline-3__RFClassifier__min_samples_split': 0.4, 'pipeline-3__RFClassifier__n_estimators': 10, 'pipeline-3__WardAgg__n_clusters': 40, 'pipeline-3__chi2filterFscore__k': 12}\n",
      "0.643 +/- 0.03 {'meta_classifier__C': 0.6033333333333333, 'pipeline-1__RFClassifier__max_depth': 11, 'pipeline-1__RFClassifier__max_features': 0.2, 'pipeline-1__RFClassifier__min_samples_split': 0.4, 'pipeline-1__RFClassifier__n_estimators': 15, 'pipeline-1__chi2filterFscore__k': 25, 'pipeline-2__RFClassifier__max_depth': 11, 'pipeline-2__RFClassifier__max_features': 0.2, 'pipeline-2__RFClassifier__min_samples_split': 0.01, 'pipeline-2__RFClassifier__n_estimators': 15, 'pipeline-2__chi2filterFscore__k': 50, 'pipeline-3__RFClassifier__max_depth': 3, 'pipeline-3__RFClassifier__max_features': 0.4, 'pipeline-3__RFClassifier__min_samples_split': 0.4, 'pipeline-3__RFClassifier__n_estimators': 10, 'pipeline-3__WardAgg__n_clusters': 40, 'pipeline-3__chi2filterFscore__k': 12}\n",
      "0.835 +/- 0.08 {'meta_classifier__C': 0.7022222222222222, 'pipeline-1__RFClassifier__max_depth': 11, 'pipeline-1__RFClassifier__max_features': 0.2, 'pipeline-1__RFClassifier__min_samples_split': 0.4, 'pipeline-1__RFClassifier__n_estimators': 15, 'pipeline-1__chi2filterFscore__k': 25, 'pipeline-2__RFClassifier__max_depth': 11, 'pipeline-2__RFClassifier__max_features': 0.2, 'pipeline-2__RFClassifier__min_samples_split': 0.01, 'pipeline-2__RFClassifier__n_estimators': 15, 'pipeline-2__chi2filterFscore__k': 50, 'pipeline-3__RFClassifier__max_depth': 3, 'pipeline-3__RFClassifier__max_features': 0.4, 'pipeline-3__RFClassifier__min_samples_split': 0.4, 'pipeline-3__RFClassifier__n_estimators': 10, 'pipeline-3__WardAgg__n_clusters': 40, 'pipeline-3__chi2filterFscore__k': 12}\n",
      "0.804 +/- 0.06 {'meta_classifier__C': 0.8011111111111111, 'pipeline-1__RFClassifier__max_depth': 11, 'pipeline-1__RFClassifier__max_features': 0.2, 'pipeline-1__RFClassifier__min_samples_split': 0.4, 'pipeline-1__RFClassifier__n_estimators': 15, 'pipeline-1__chi2filterFscore__k': 25, 'pipeline-2__RFClassifier__max_depth': 11, 'pipeline-2__RFClassifier__max_features': 0.2, 'pipeline-2__RFClassifier__min_samples_split': 0.01, 'pipeline-2__RFClassifier__n_estimators': 15, 'pipeline-2__chi2filterFscore__k': 50, 'pipeline-3__RFClassifier__max_depth': 3, 'pipeline-3__RFClassifier__max_features': 0.4, 'pipeline-3__RFClassifier__min_samples_split': 0.4, 'pipeline-3__RFClassifier__n_estimators': 10, 'pipeline-3__WardAgg__n_clusters': 40, 'pipeline-3__chi2filterFscore__k': 12}\n",
      "0.737 +/- 0.08 {'meta_classifier__C': 0.9, 'pipeline-1__RFClassifier__max_depth': 11, 'pipeline-1__RFClassifier__max_features': 0.2, 'pipeline-1__RFClassifier__min_samples_split': 0.4, 'pipeline-1__RFClassifier__n_estimators': 15, 'pipeline-1__chi2filterFscore__k': 25, 'pipeline-2__RFClassifier__max_depth': 11, 'pipeline-2__RFClassifier__max_features': 0.2, 'pipeline-2__RFClassifier__min_samples_split': 0.01, 'pipeline-2__RFClassifier__n_estimators': 15, 'pipeline-2__chi2filterFscore__k': 50, 'pipeline-3__RFClassifier__max_depth': 3, 'pipeline-3__RFClassifier__max_features': 0.4, 'pipeline-3__RFClassifier__min_samples_split': 0.4, 'pipeline-3__RFClassifier__n_estimators': 10, 'pipeline-3__WardAgg__n_clusters': 40, 'pipeline-3__chi2filterFscore__k': 12}\n"
     ]
    }
   ],
   "metadata": {}
  },
  {
   "cell_type": "markdown",
   "source": [
    "# Results\n",
    "Show graphs and stats here"
   ],
   "metadata": {}
  },
  {
   "cell_type": "code",
   "execution_count": 59,
   "source": [
    "\n",
    "print('Best parameters: %s' % grid.best_params_)\n",
    "print('Accuracy: %.2f' % grid.best_score_)"
   ],
   "outputs": [
    {
     "output_type": "stream",
     "name": "stdout",
     "text": [
      "Best parameters: {'meta_classifier__C': 0.7022222222222222, 'pipeline-1__RFClassifier__max_depth': 11, 'pipeline-1__RFClassifier__max_features': 0.2, 'pipeline-1__RFClassifier__min_samples_split': 0.4, 'pipeline-1__RFClassifier__n_estimators': 15, 'pipeline-1__chi2filterFscore__k': 25, 'pipeline-2__RFClassifier__max_depth': 11, 'pipeline-2__RFClassifier__max_features': 0.2, 'pipeline-2__RFClassifier__min_samples_split': 0.01, 'pipeline-2__RFClassifier__n_estimators': 15, 'pipeline-2__chi2filterFscore__k': 50, 'pipeline-3__RFClassifier__max_depth': 3, 'pipeline-3__RFClassifier__max_features': 0.4, 'pipeline-3__RFClassifier__min_samples_split': 0.4, 'pipeline-3__RFClassifier__n_estimators': 10, 'pipeline-3__WardAgg__n_clusters': 40, 'pipeline-3__chi2filterFscore__k': 12}\n",
      "Accuracy: 0.83\n"
     ]
    }
   ],
   "metadata": {}
  },
  {
   "cell_type": "code",
   "execution_count": 60,
   "source": [
    "# pickle best model from gridCV\n",
    "model_filename = \"models/CMP+GDSC_stacked_Omics_binary_MultiCVclassifier_exprPROGENyHALLMARKS+highCNagg.pkl\" \n",
    "\n",
    "with open(model_filename,'wb') as f:\n",
    "    pickle.dump(grid.best_estimator_,f)\n"
   ],
   "outputs": [],
   "metadata": {}
  },
  {
   "cell_type": "code",
   "execution_count": 61,
   "source": [
    "\n",
    "\n",
    "# In[70]:\n",
    "\n",
    "\n",
    "# load the model from file\n",
    "classifier = pickle.load(open(model_filename, 'rb'))\n",
    "# assess best classifier performance on test set\n",
    "grid_test_score = classifier.score(X_test, y_test)\n",
    "y_pred = classifier.predict(X_test)\n",
    "print(f'Accuracy on test set: {grid_test_score:.3f}')\n",
    "# print classification report on test set\n",
    "print(classification_report(y_test, y_pred, target_names=['PD', 'SD-OR']))\n",
    "\n",
    "\n",
    "# In[71]:\n",
    "\n",
    "\n",
    "#confusion_matrix = confusion_matrix(y_test, y_pred)\n",
    "plot_confusion_matrix(classifier, X_test, y_test,\n",
    "                                 display_labels=['PD', 'SD-OR'],\n",
    "                                 cmap=plt.cm.Blues)\n",
    "\n",
    "\n",
    "# In[72]:\n",
    "\n",
    "\n",
    "# Learn to predict e/a class against e/a other\n",
    "#OVRclassifier = OneVsRestClassifier(classifier)\n",
    "# returns the marginal probability that the given sample has the label in question\n",
    "y_test_predict_proba = classifier.predict_proba(X_test)\n",
    "roc_auc_score(y_test, y_test_predict_proba[:, 1])"
   ],
   "outputs": [
    {
     "output_type": "stream",
     "name": "stdout",
     "text": [
      "Accuracy on test set: 0.692\n",
      "              precision    recall  f1-score   support\n",
      "\n",
      "          PD       0.75      0.50      0.60         6\n",
      "       SD-OR       0.67      0.86      0.75         7\n",
      "\n",
      "    accuracy                           0.69        13\n",
      "   macro avg       0.71      0.68      0.68        13\n",
      "weighted avg       0.71      0.69      0.68        13\n",
      "\n"
     ]
    },
    {
     "output_type": "execute_result",
     "data": {
      "text/plain": [
       "<sklearn.metrics._plot.confusion_matrix.ConfusionMatrixDisplay at 0x7f86d2af0850>"
      ]
     },
     "metadata": {},
     "execution_count": 61
    },
    {
     "output_type": "execute_result",
     "data": {
      "text/plain": [
       "0.6547619047619048"
      ]
     },
     "metadata": {},
     "execution_count": 61
    },
    {
     "output_type": "display_data",
     "data": {
      "image/png": "[encoded data removed]",
      "text/plain": [
       "<Figure size 432x288 with 2 Axes>"
      ]
     },
     "metadata": {}
    }
   ],
   "metadata": {}
  },
  {
   "cell_type": "markdown",
   "source": [
    "# Conclusions and Next Steps\n",
    "Summarize findings here"
   ],
   "metadata": {}
  },
  {
   "cell_type": "code",
   "execution_count": null,
   "source": [],
   "outputs": [],
   "metadata": {}
  }
 ],
 "metadata": {
  "kernelspec": {
   "name": "python3",
   "display_name": "Python 3.8.5 64-bit ('PDx_py': conda)"
  },
  "language_info": {
   "codemirror_mode": {
    "name": "ipython",
    "version": 3
   },
   "file_extension": ".py",
   "mimetype": "text/x-python",
   "name": "python",
   "nbconvert_exporter": "python",
   "pygments_lexer": "ipython3",
   "version": "3.8.5"
  },
  "interpreter": {
   "hash": "b2972cb107c313313bc130e85ac9dd8d60730b33e1d100c5607eb667e2f34546"
  }
 },
 "nbformat": 4,
 "nbformat_minor": 4
}