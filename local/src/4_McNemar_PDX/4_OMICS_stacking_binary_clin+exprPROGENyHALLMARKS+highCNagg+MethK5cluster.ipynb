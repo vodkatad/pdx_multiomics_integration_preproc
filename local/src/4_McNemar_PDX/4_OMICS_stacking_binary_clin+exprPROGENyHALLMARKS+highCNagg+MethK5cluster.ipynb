{
 "cells": [
  {
   "cell_type": "markdown",
   "metadata": {},
   "source": [
    "# Introduction\n",
    "State notebook purpose here"
   ]
  },
  {
   "cell_type": "markdown",
   "metadata": {},
   "source": [
    "### Imports\n",
    "Import libraries and write settings here."
   ]
  },
  {
   "cell_type": "code",
   "execution_count": 30,
   "metadata": {},
   "outputs": [],
   "source": [
    "# Data manipulation\n",
    "import pandas as pd\n",
    "import numpy as np\n",
    "import warnings\n",
    "\n",
    "# Options for pandas\n",
    "# No warnings about setting value on copy of slice\n",
    "pd.options.mode.chained_assignment = None\n",
    "pd.options.display.max_columns = 600\n",
    "pd.options.display.max_rows = 30\n",
    "\n",
    "# Display all cell outputs\n",
    "from IPython.core.interactiveshell import InteractiveShell\n",
    "InteractiveShell.ast_node_interactivity = 'all'\n",
    "\n",
    "from IPython import get_ipython\n",
    "ipython = get_ipython()\n",
    "\n",
    "# autoreload extension\n",
    "if 'autoreload' not in ipython.extension_manager.loaded:\n",
    "    get_ipython().run_line_magic('load_ext', 'autoreload')\n",
    "\n",
    "get_ipython().run_line_magic('autoreload', '2')\n",
    "\n",
    "\n",
    "# scalers\n",
    "from sklearn.preprocessing import StandardScaler, MinMaxScaler\n",
    "\n",
    "# models\n",
    "from sklearn.svm import LinearSVC, SVC\n",
    "from sklearn.linear_model import LogisticRegression\n",
    "from sklearn.neighbors import KNeighborsClassifier\n",
    "from sklearn.naive_bayes import GaussianNB \n",
    "from sklearn.ensemble import RandomForestClassifier, ExtraTreesClassifier\n",
    "from mlxtend.classifier import StackingClassifier, StackingCVClassifier\n",
    "from mlxtend.classifier import LogisticRegression as extLogisticRegression\n",
    "# xgboost\n",
    "from xgboost import XGBClassifier\n",
    "\n",
    "# processing\n",
    "from sklearn.preprocessing import label_binarize\n",
    "from sklearn.model_selection import StratifiedKFold\n",
    "from sklearn.pipeline import Pipeline\n",
    "from mlxtend.feature_selection import ColumnSelector\n",
    "from sklearn import model_selection\n",
    "\n",
    "# feature selection\n",
    "from sklearn.feature_selection import f_classif, SelectKBest, VarianceThreshold, chi2\n",
    "\n",
    "# feature agglomeration\n",
    "from sklearn.cluster import FeatureAgglomeration\n",
    "\n",
    "# benchmark\n",
    "from sklearn.multiclass import OneVsRestClassifier\n",
    "from sklearn.metrics import roc_curve, multilabel_confusion_matrix, auc, matthews_corrcoef, roc_auc_score, accuracy_score, classification_report, confusion_matrix, plot_confusion_matrix\n",
    "# Hyperparameter tuning\n",
    "from sklearn.model_selection import RandomizedSearchCV, GridSearchCV\n",
    "\n",
    "import pickle\n",
    "\n",
    "# Visualizations\n",
    "import matplotlib.pyplot as plt\n",
    "# Set default font size\n",
    "plt.rcParams['font.size'] = 24\n",
    "import seaborn as sb\n",
    "# Set default font size\n",
    "sb.set(font_scale = .8)\n",
    "custom_style = {'axes.labelcolor': 'black',\n",
    "                'xtick.color': 'black',\n",
    "                'ytick.color': 'black'}\n",
    "sb.set_style(\"white\", rc=custom_style)\n",
    "\n",
    "# Interactive Visualizations\n",
    "# import plotly.plotly as py\n",
    "# import plotly.graph_objs as go\n",
    "# from plotly.offline import iplot, init_notebook_mode\n",
    "# init_notebook_mode(connected=True)\n",
    "\n",
    "# import cufflinks as cf\n",
    "# cf.go_offline(connected=True)\n",
    "# icf.set_config_file(theme='white')"
   ]
  },
  {
   "cell_type": "markdown",
   "metadata": {},
   "source": [
    "# Analysis/Modeling\n",
    "Do work here"
   ]
  },
  {
   "cell_type": "code",
   "execution_count": 31,
   "metadata": {},
   "outputs": [
    {
     "data": {
      "text/plain": [
       "(174, 758)"
      ]
     },
     "execution_count": 31,
     "metadata": {},
     "output_type": "execute_result"
    },
    {
     "data": {
      "text/plain": [
       "(57, 758)"
      ]
     },
     "execution_count": 31,
     "metadata": {},
     "output_type": "execute_result"
    }
   ],
   "source": [
    "target_col = \"Cetuximab_Standard_3wks_cat\"\n",
    "\n",
    "# K5 clusters encoded meth probes\n",
    "f = \"tables/preprocessed_features/methK5Clusters.tsv\"\n",
    "Meth = pd.read_csv(f, sep=\"\\t\", header=0, index_col=0)\n",
    "Meth = Meth[Meth.columns.drop(list(Meth.filter(regex='Cetuximab')))]\n",
    "\n",
    "# encoded expr data w/t progeny pathway scores + msdb hallmarks ssGSEA scores\n",
    "# colinearity filter + chi2\n",
    "f = 'tables/preprocessed_features/exprPath_PROGENy+HALLMARK.tsv'\n",
    "Expr = pd.read_csv(f, sep=\"\\t\", header=0, index_col=0)\n",
    "Expr = Expr[Expr.columns.drop(list(Expr.filter(regex='Cetuximab')))]\n",
    "Expr.columns = [c + \"_expr\" for c in Expr.columns]\n",
    "\n",
    "# feature agglomeration CNV, input includes highGain features\n",
    "f = \"tables/preprocessed_features/CNV_highCN.tsv\"\n",
    "CNV = pd.read_csv(f, sep=\"\\t\", header=0, index_col=0)\n",
    "CNV = CNV[CNV.columns.drop(list(CNV.filter(regex='Cetuximab')))]\n",
    "CNV.columns = [c + \"_cnv\" for c in CNV.columns]\n",
    "\n",
    "# custom mut feature cross w/t top 20 features by chi2\n",
    "f = \"tables/preprocessed_features/mut_ComboMulti.tsv\"\n",
    "Mut = pd.read_csv(f, sep=\"\\t\", header=0, index_col=0)\n",
    "Mut = Mut[Mut.columns.drop(list(Mut.filter(regex='Cetuximab')))]\n",
    "Mut.columns = [c + \"_mut\" for c in Mut.columns]\n",
    "\n",
    "# add clinical data\n",
    "f = 'tables/preprocessed_features/clin.tsv'\n",
    "Clin = pd.read_csv(f, sep=\"\\t\", header=0, index_col=0)\n",
    "Clin = Clin[Clin.columns.drop(list(Clin.filter(regex='Cetuximab')))]\n",
    "Clin.columns = [c + \"_clin\" for c in Clin.columns]\n",
    "\n",
    "f = \"tables/DrugResponse_LMXfirslevel_trainTest.csv\"\n",
    "Y = pd.read_csv(f, sep=\"\\t\", index_col=1, header=0)\n",
    "# encode target\n",
    "Y_class_dict={'PD':0,'SD':1, 'OR':1}\n",
    "Y[target_col] = Y[target_col].replace(Y_class_dict)\n",
    "\n",
    "df1 = pd.merge(Mut, CNV, right_index=True, left_index=True, how=\"outer\")\n",
    "df2 = pd.merge(Meth, Expr, right_index=True, left_index=True, how=\"outer\")\n",
    "all_df = pd.merge(df2, df1, right_index=True, left_index=True, how=\"outer\")\n",
    "all_df = pd.merge(all_df, Clin, right_index=True, left_index=True, how=\"outer\")\n",
    "feature_col = all_df.columns.tolist()\n",
    "all_df =  all_df.select_dtypes([np.number])\n",
    "all_df = pd.merge(all_df, Y[target_col], right_index=True, left_index=True, how=\"right\")\n",
    "\n",
    "# drop duplicated instances (ircc_id) from index\n",
    "all_df = all_df[~all_df.index.duplicated(keep='first')]\n",
    "# fillna in features with median imputation\n",
    "all_df[feature_col] = all_df[feature_col].\\\n",
    "        astype(float).apply(lambda col:col.fillna(col.median()))\n",
    "\n",
    "\n",
    "# train-test split\n",
    "train_models = Y[Y.is_test == False].index.unique()\n",
    "test_models = Y[Y.is_test == True].index.unique()\n",
    "X_train = all_df.loc[train_models, feature_col]\n",
    "y_train  = all_df.loc[train_models, target_col]\n",
    "X_test = all_df.loc[test_models, feature_col]\n",
    "y_test = all_df.loc[test_models, target_col]\n",
    "\n",
    "#scale features sapartaely\n",
    "scaler = MinMaxScaler().fit(X_train)\n",
    "X_train = pd.DataFrame(scaler.transform(X_train.values),\n",
    "          columns=X_train.columns, index=X_train.index)              \n",
    "X_test = pd.DataFrame(scaler.transform(X_test.values),\n",
    "          columns=X_test.columns, index=X_test.index)    \n",
    "X_train.shape\n",
    "X_test.shape\n",
    "\n",
    "\n",
    "\n",
    "# get indeces for feature subsets, one per OMIC\n",
    "Meth_indeces = list(range(0, Meth.shape[1]))\n",
    "pos = len(Meth_indeces)\n",
    "Expr_indeces = list(range(Meth_indeces[-1]+1, pos + Expr.shape[1]))\n",
    "pos += len(Expr_indeces)\n",
    "Mut_indeces = list(range(Expr_indeces[-1]+1, pos + Mut.shape[1]))\n",
    "pos += len(Mut_indeces)\n",
    "CNV_indeces = list(range(Mut_indeces[-1]+1, pos + CNV.shape[1]))\n",
    "pos += len(CNV_indeces)\n",
    "Clin_indeces = list(range(CNV_indeces[-1]+1, pos + Clin.shape[1]))"
   ]
  },
  {
   "cell_type": "code",
   "execution_count": 32,
   "metadata": {},
   "outputs": [
    {
     "data": {
      "text/plain": [
       "CRC0014LMX0A02201TUMD02000    17.0\n",
       "CRC0018LMX0B02201TUMD04000     3.0\n",
       "CRC0019LMX0A02204TUMD05000     3.0\n",
       "CRC0021LMX0B02204TUMD02000     2.0\n",
       "CRC0022LMX0A02204TUMD04000     0.0\n",
       "                              ... \n",
       "CRC1321LMX0B01001TUMD01000     3.0\n",
       "CRC1331LMX0B02001TUMD01000     6.0\n",
       "CRC1337LMX0A01001TUMD01000     1.0\n",
       "CRC1342LMX0B01001TUMD01000     3.0\n",
       "CRC1369LMX0B01001TUMD01000     3.0\n",
       "Name: margine (mm)_clin, Length: 231, dtype: float64"
      ]
     },
     "execution_count": 32,
     "metadata": {},
     "output_type": "execute_result"
    },
    {
     "name": "stdout",
     "output_type": "stream",
     "text": [
      "Fitting 4 folds for each of 10 candidates, totalling 40 fits\n",
      "Fitting 5 classifiers...\n",
      "Fitting classifier1: pipeline (1/5)\n",
      "Fitting classifier2: pipeline (2/5)\n",
      "Fitting classifier3: pipeline (3/5)\n",
      "Fitting classifier4: pipeline (4/5)\n"
     ]
    },
    {
     "name": "stderr",
     "output_type": "stream",
     "text": [
      "[Parallel(n_jobs=1)]: Using backend SequentialBackend with 1 concurrent workers.\n",
      "[Parallel(n_jobs=1)]: Done   3 out of   3 | elapsed:    0.0s finished\n",
      "[Parallel(n_jobs=1)]: Using backend SequentialBackend with 1 concurrent workers.\n",
      "[Parallel(n_jobs=1)]: Done   3 out of   3 | elapsed:    0.1s finished\n",
      "[Parallel(n_jobs=1)]: Using backend SequentialBackend with 1 concurrent workers.\n",
      "[Parallel(n_jobs=1)]: Done   3 out of   3 | elapsed:    0.1s finished\n",
      "[Parallel(n_jobs=1)]: Using backend SequentialBackend with 1 concurrent workers.\n",
      "[Parallel(n_jobs=1)]: Done   3 out of   3 | elapsed:    0.1s finished\n",
      "[Parallel(n_jobs=1)]: Using backend SequentialBackend with 1 concurrent workers.\n"
     ]
    },
    {
     "name": "stdout",
     "output_type": "stream",
     "text": [
      "Fitting classifier5: pipeline (5/5)\n"
     ]
    },
    {
     "name": "stderr",
     "output_type": "stream",
     "text": [
      "[Parallel(n_jobs=1)]: Done   3 out of   3 | elapsed:    0.4s finished\n"
     ]
    },
    {
     "data": {
      "text/plain": [
       "GridSearchCV(cv=StratifiedKFold(n_splits=4, random_state=42, shuffle=True),\n",
       "             estimator=StackingCVClassifier(classifiers=[Pipeline(steps=[('ColumnSelector',\n",
       "                                                                          ColumnSelector(cols=[0,\n",
       "                                                                                               1,\n",
       "                                                                                               2,\n",
       "                                                                                               3,\n",
       "                                                                                               4])),\n",
       "                                                                         ('VarianceFilter',\n",
       "                                                                          VarianceThreshold(threshold=0)),\n",
       "                                                                         ('KNNlassifier',\n",
       "                                                                          KNeighborsClassifier())]),\n",
       "                                                         Pipeline(steps=[('ColumnSelector',\n",
       "                                                                          ColumnSelector(cols=[5,\n",
       "                                                                                               6,\n",
       "                                                                                               7,\n",
       "                                                                                               8,\n",
       "                                                                                               9,\n",
       "                                                                                               10,\n",
       "                                                                                               11,\n",
       "                                                                                               12...\n",
       "                         'pipeline-4__RFClassifier__max_depth': [3],\n",
       "                         'pipeline-4__RFClassifier__max_features': [0.4],\n",
       "                         'pipeline-4__RFClassifier__min_samples_split': [0.4],\n",
       "                         'pipeline-4__RFClassifier__n_estimators': [10],\n",
       "                         'pipeline-4__WardAgg__n_clusters': [40],\n",
       "                         'pipeline-4__chi2filterFscore__k': [12],\n",
       "                         'pipeline-5__RFClassifier__max_depth': [4],\n",
       "                         'pipeline-5__chi2filterFscore__k': [25]},\n",
       "             verbose=2)"
      ]
     },
     "execution_count": 32,
     "metadata": {},
     "output_type": "execute_result"
    },
    {
     "name": "stdout",
     "output_type": "stream",
     "text": [
      "0.770 +/- 0.02 {'meta_classifier__C': 0.01, 'pipeline-1__KNNlassifier__n_neighbors': 13, 'pipeline-1__KNNlassifier__p': 1, 'pipeline-2__RFClassifier__max_depth': 11, 'pipeline-2__RFClassifier__max_features': 0.2, 'pipeline-2__RFClassifier__min_samples_split': 0.4, 'pipeline-2__RFClassifier__n_estimators': 15, 'pipeline-2__chi2filterFscore__k': 25, 'pipeline-3__RFClassifier__max_depth': 11, 'pipeline-3__RFClassifier__max_features': 0.2, 'pipeline-3__RFClassifier__min_samples_split': 0.01, 'pipeline-3__RFClassifier__n_estimators': 15, 'pipeline-3__chi2filterFscore__k': 50, 'pipeline-4__RFClassifier__max_depth': 3, 'pipeline-4__RFClassifier__max_features': 0.4, 'pipeline-4__RFClassifier__min_samples_split': 0.4, 'pipeline-4__RFClassifier__n_estimators': 10, 'pipeline-4__WardAgg__n_clusters': 40, 'pipeline-4__chi2filterFscore__k': 12, 'pipeline-5__RFClassifier__max_depth': 4, 'pipeline-5__chi2filterFscore__k': 25}\n",
      "0.753 +/- 0.02 {'meta_classifier__C': 0.10888888888888888, 'pipeline-1__KNNlassifier__n_neighbors': 13, 'pipeline-1__KNNlassifier__p': 1, 'pipeline-2__RFClassifier__max_depth': 11, 'pipeline-2__RFClassifier__max_features': 0.2, 'pipeline-2__RFClassifier__min_samples_split': 0.4, 'pipeline-2__RFClassifier__n_estimators': 15, 'pipeline-2__chi2filterFscore__k': 25, 'pipeline-3__RFClassifier__max_depth': 11, 'pipeline-3__RFClassifier__max_features': 0.2, 'pipeline-3__RFClassifier__min_samples_split': 0.01, 'pipeline-3__RFClassifier__n_estimators': 15, 'pipeline-3__chi2filterFscore__k': 50, 'pipeline-4__RFClassifier__max_depth': 3, 'pipeline-4__RFClassifier__max_features': 0.4, 'pipeline-4__RFClassifier__min_samples_split': 0.4, 'pipeline-4__RFClassifier__n_estimators': 10, 'pipeline-4__WardAgg__n_clusters': 40, 'pipeline-4__chi2filterFscore__k': 12, 'pipeline-5__RFClassifier__max_depth': 4, 'pipeline-5__chi2filterFscore__k': 25}\n",
      "0.765 +/- 0.01 {'meta_classifier__C': 0.20777777777777778, 'pipeline-1__KNNlassifier__n_neighbors': 13, 'pipeline-1__KNNlassifier__p': 1, 'pipeline-2__RFClassifier__max_depth': 11, 'pipeline-2__RFClassifier__max_features': 0.2, 'pipeline-2__RFClassifier__min_samples_split': 0.4, 'pipeline-2__RFClassifier__n_estimators': 15, 'pipeline-2__chi2filterFscore__k': 25, 'pipeline-3__RFClassifier__max_depth': 11, 'pipeline-3__RFClassifier__max_features': 0.2, 'pipeline-3__RFClassifier__min_samples_split': 0.01, 'pipeline-3__RFClassifier__n_estimators': 15, 'pipeline-3__chi2filterFscore__k': 50, 'pipeline-4__RFClassifier__max_depth': 3, 'pipeline-4__RFClassifier__max_features': 0.4, 'pipeline-4__RFClassifier__min_samples_split': 0.4, 'pipeline-4__RFClassifier__n_estimators': 10, 'pipeline-4__WardAgg__n_clusters': 40, 'pipeline-4__chi2filterFscore__k': 12, 'pipeline-5__RFClassifier__max_depth': 4, 'pipeline-5__chi2filterFscore__k': 25}\n",
      "0.759 +/- 0.01 {'meta_classifier__C': 0.30666666666666664, 'pipeline-1__KNNlassifier__n_neighbors': 13, 'pipeline-1__KNNlassifier__p': 1, 'pipeline-2__RFClassifier__max_depth': 11, 'pipeline-2__RFClassifier__max_features': 0.2, 'pipeline-2__RFClassifier__min_samples_split': 0.4, 'pipeline-2__RFClassifier__n_estimators': 15, 'pipeline-2__chi2filterFscore__k': 25, 'pipeline-3__RFClassifier__max_depth': 11, 'pipeline-3__RFClassifier__max_features': 0.2, 'pipeline-3__RFClassifier__min_samples_split': 0.01, 'pipeline-3__RFClassifier__n_estimators': 15, 'pipeline-3__chi2filterFscore__k': 50, 'pipeline-4__RFClassifier__max_depth': 3, 'pipeline-4__RFClassifier__max_features': 0.4, 'pipeline-4__RFClassifier__min_samples_split': 0.4, 'pipeline-4__RFClassifier__n_estimators': 10, 'pipeline-4__WardAgg__n_clusters': 40, 'pipeline-4__chi2filterFscore__k': 12, 'pipeline-5__RFClassifier__max_depth': 4, 'pipeline-5__chi2filterFscore__k': 25}\n",
      "0.793 +/- 0.02 {'meta_classifier__C': 0.40555555555555556, 'pipeline-1__KNNlassifier__n_neighbors': 13, 'pipeline-1__KNNlassifier__p': 1, 'pipeline-2__RFClassifier__max_depth': 11, 'pipeline-2__RFClassifier__max_features': 0.2, 'pipeline-2__RFClassifier__min_samples_split': 0.4, 'pipeline-2__RFClassifier__n_estimators': 15, 'pipeline-2__chi2filterFscore__k': 25, 'pipeline-3__RFClassifier__max_depth': 11, 'pipeline-3__RFClassifier__max_features': 0.2, 'pipeline-3__RFClassifier__min_samples_split': 0.01, 'pipeline-3__RFClassifier__n_estimators': 15, 'pipeline-3__chi2filterFscore__k': 50, 'pipeline-4__RFClassifier__max_depth': 3, 'pipeline-4__RFClassifier__max_features': 0.4, 'pipeline-4__RFClassifier__min_samples_split': 0.4, 'pipeline-4__RFClassifier__n_estimators': 10, 'pipeline-4__WardAgg__n_clusters': 40, 'pipeline-4__chi2filterFscore__k': 12, 'pipeline-5__RFClassifier__max_depth': 4, 'pipeline-5__chi2filterFscore__k': 25}\n",
      "0.776 +/- 0.01 {'meta_classifier__C': 0.5044444444444445, 'pipeline-1__KNNlassifier__n_neighbors': 13, 'pipeline-1__KNNlassifier__p': 1, 'pipeline-2__RFClassifier__max_depth': 11, 'pipeline-2__RFClassifier__max_features': 0.2, 'pipeline-2__RFClassifier__min_samples_split': 0.4, 'pipeline-2__RFClassifier__n_estimators': 15, 'pipeline-2__chi2filterFscore__k': 25, 'pipeline-3__RFClassifier__max_depth': 11, 'pipeline-3__RFClassifier__max_features': 0.2, 'pipeline-3__RFClassifier__min_samples_split': 0.01, 'pipeline-3__RFClassifier__n_estimators': 15, 'pipeline-3__chi2filterFscore__k': 50, 'pipeline-4__RFClassifier__max_depth': 3, 'pipeline-4__RFClassifier__max_features': 0.4, 'pipeline-4__RFClassifier__min_samples_split': 0.4, 'pipeline-4__RFClassifier__n_estimators': 10, 'pipeline-4__WardAgg__n_clusters': 40, 'pipeline-4__chi2filterFscore__k': 12, 'pipeline-5__RFClassifier__max_depth': 4, 'pipeline-5__chi2filterFscore__k': 25}\n",
      "0.764 +/- 0.01 {'meta_classifier__C': 0.6033333333333333, 'pipeline-1__KNNlassifier__n_neighbors': 13, 'pipeline-1__KNNlassifier__p': 1, 'pipeline-2__RFClassifier__max_depth': 11, 'pipeline-2__RFClassifier__max_features': 0.2, 'pipeline-2__RFClassifier__min_samples_split': 0.4, 'pipeline-2__RFClassifier__n_estimators': 15, 'pipeline-2__chi2filterFscore__k': 25, 'pipeline-3__RFClassifier__max_depth': 11, 'pipeline-3__RFClassifier__max_features': 0.2, 'pipeline-3__RFClassifier__min_samples_split': 0.01, 'pipeline-3__RFClassifier__n_estimators': 15, 'pipeline-3__chi2filterFscore__k': 50, 'pipeline-4__RFClassifier__max_depth': 3, 'pipeline-4__RFClassifier__max_features': 0.4, 'pipeline-4__RFClassifier__min_samples_split': 0.4, 'pipeline-4__RFClassifier__n_estimators': 10, 'pipeline-4__WardAgg__n_clusters': 40, 'pipeline-4__chi2filterFscore__k': 12, 'pipeline-5__RFClassifier__max_depth': 4, 'pipeline-5__chi2filterFscore__k': 25}\n",
      "0.747 +/- 0.02 {'meta_classifier__C': 0.7022222222222222, 'pipeline-1__KNNlassifier__n_neighbors': 13, 'pipeline-1__KNNlassifier__p': 1, 'pipeline-2__RFClassifier__max_depth': 11, 'pipeline-2__RFClassifier__max_features': 0.2, 'pipeline-2__RFClassifier__min_samples_split': 0.4, 'pipeline-2__RFClassifier__n_estimators': 15, 'pipeline-2__chi2filterFscore__k': 25, 'pipeline-3__RFClassifier__max_depth': 11, 'pipeline-3__RFClassifier__max_features': 0.2, 'pipeline-3__RFClassifier__min_samples_split': 0.01, 'pipeline-3__RFClassifier__n_estimators': 15, 'pipeline-3__chi2filterFscore__k': 50, 'pipeline-4__RFClassifier__max_depth': 3, 'pipeline-4__RFClassifier__max_features': 0.4, 'pipeline-4__RFClassifier__min_samples_split': 0.4, 'pipeline-4__RFClassifier__n_estimators': 10, 'pipeline-4__WardAgg__n_clusters': 40, 'pipeline-4__chi2filterFscore__k': 12, 'pipeline-5__RFClassifier__max_depth': 4, 'pipeline-5__chi2filterFscore__k': 25}\n",
      "0.747 +/- 0.01 {'meta_classifier__C': 0.8011111111111111, 'pipeline-1__KNNlassifier__n_neighbors': 13, 'pipeline-1__KNNlassifier__p': 1, 'pipeline-2__RFClassifier__max_depth': 11, 'pipeline-2__RFClassifier__max_features': 0.2, 'pipeline-2__RFClassifier__min_samples_split': 0.4, 'pipeline-2__RFClassifier__n_estimators': 15, 'pipeline-2__chi2filterFscore__k': 25, 'pipeline-3__RFClassifier__max_depth': 11, 'pipeline-3__RFClassifier__max_features': 0.2, 'pipeline-3__RFClassifier__min_samples_split': 0.01, 'pipeline-3__RFClassifier__n_estimators': 15, 'pipeline-3__chi2filterFscore__k': 50, 'pipeline-4__RFClassifier__max_depth': 3, 'pipeline-4__RFClassifier__max_features': 0.4, 'pipeline-4__RFClassifier__min_samples_split': 0.4, 'pipeline-4__RFClassifier__n_estimators': 10, 'pipeline-4__WardAgg__n_clusters': 40, 'pipeline-4__chi2filterFscore__k': 12, 'pipeline-5__RFClassifier__max_depth': 4, 'pipeline-5__chi2filterFscore__k': 25}\n",
      "0.764 +/- 0.02 {'meta_classifier__C': 0.9, 'pipeline-1__KNNlassifier__n_neighbors': 13, 'pipeline-1__KNNlassifier__p': 1, 'pipeline-2__RFClassifier__max_depth': 11, 'pipeline-2__RFClassifier__max_features': 0.2, 'pipeline-2__RFClassifier__min_samples_split': 0.4, 'pipeline-2__RFClassifier__n_estimators': 15, 'pipeline-2__chi2filterFscore__k': 25, 'pipeline-3__RFClassifier__max_depth': 11, 'pipeline-3__RFClassifier__max_features': 0.2, 'pipeline-3__RFClassifier__min_samples_split': 0.01, 'pipeline-3__RFClassifier__n_estimators': 15, 'pipeline-3__chi2filterFscore__k': 50, 'pipeline-4__RFClassifier__max_depth': 3, 'pipeline-4__RFClassifier__max_features': 0.4, 'pipeline-4__RFClassifier__min_samples_split': 0.4, 'pipeline-4__RFClassifier__n_estimators': 10, 'pipeline-4__WardAgg__n_clusters': 40, 'pipeline-4__chi2filterFscore__k': 12, 'pipeline-5__RFClassifier__max_depth': 4, 'pipeline-5__chi2filterFscore__k': 25}\n"
     ]
    }
   ],
   "source": [
    "all_df.iloc[:,CNV_indeces[-1]+1]\n",
    "\n",
    "\n",
    "# pipeline to train a classifier on meth data alone\n",
    "pipe_steps = [\n",
    "    (\"ColumnSelector\", ColumnSelector(cols=Meth_indeces)),\n",
    "    (\"VarianceFilter\", VarianceThreshold(threshold=0)), # drop features with 0 variance\n",
    "    ('KNNlassifier', KNeighborsClassifier().fit(X_train, y_train)),\n",
    "]\n",
    "\n",
    "pipeMeth = Pipeline(pipe_steps)\n",
    "\n",
    "\n",
    "# In[63]:\n",
    "\n",
    "\n",
    "# pipeline to train a classifier on expression data alone\n",
    "pipe_steps = [\n",
    "    (\"ColumnSelector\", ColumnSelector(cols=Expr_indeces)),\n",
    "    (\"chi2filterFscore\", SelectKBest(chi2)), \n",
    "    ('RFClassifier', RandomForestClassifier(criterion='gini', class_weight='balanced')),\n",
    "]\n",
    "\n",
    "pipeExpr = Pipeline(pipe_steps)\n",
    "\n",
    "\n",
    "# In[64]:\n",
    "\n",
    "\n",
    "# pipeline to train a classifier on mutation data alone\n",
    "pipe_steps = [\n",
    "    (\"ColumnSelector\", ColumnSelector(cols=Mut_indeces)),\n",
    "    (\"chi2filterFscore\", SelectKBest(chi2)), # univariate filter on chi2 stat\n",
    "    ('RFClassifier', RandomForestClassifier(criterion='gini', class_weight='balanced')),\n",
    "]\n",
    "\n",
    "pipeMut = Pipeline(pipe_steps)\n",
    "\n",
    "\n",
    "# In[65]:\n",
    "\n",
    "\n",
    "# pipeline to train a classifier on CNV data alone\n",
    "pipe_steps = [\n",
    "    (\"ColumnSelector\", ColumnSelector(cols=CNV_indeces)),\n",
    "     # remove samples which have the same val in 85% or more samples\n",
    "    (\"VarianceFilter\", VarianceThreshold(threshold=(.75 * (1 - .75)))),\n",
    "    (\"WardAgg\", FeatureAgglomeration()), # Ward feature agglomeration by mean\n",
    "    (\"chi2filterFscore\", SelectKBest(chi2)), \n",
    "    ('RFClassifier', RandomForestClassifier(criterion='gini', class_weight='balanced')),\n",
    "]\n",
    "\n",
    "pipeCNV = Pipeline(pipe_steps)\n",
    "\n",
    "\n",
    "# In[66]:\n",
    "\n",
    "\n",
    "# pipeline to train a classifier on clinical/patient data alone\n",
    "pipe_steps = [\n",
    "    (\"ColumnSelector\", ColumnSelector(cols=Clin_indeces)),\n",
    "    (\"chi2filterFscore\", SelectKBest(chi2)), \n",
    "    ('RFClassifier', RandomForestClassifier(criterion='gini', class_weight='balanced')),\n",
    "]\n",
    "\n",
    "pipeClin = Pipeline(pipe_steps)\n",
    "\n",
    "\n",
    "# In[67]:\n",
    "\n",
    "\n",
    "# build the meta classifier\n",
    "sclf = StackingCVClassifier(classifiers=[pipeMeth, pipeExpr, pipeMut, pipeCNV, pipeClin], \n",
    "                          cv=3, random_state=13, verbose=1,\n",
    "                          #use_probas=True, #average_probas=False,\n",
    "                          #use_features_in_secondary=True,\n",
    "                          meta_classifier=LogisticRegression(penalty='l2', class_weight='balanced'))\n",
    "\n",
    "hyperparameter_grid = {\n",
    "          # Meth params \n",
    "          'pipeline-1__KNNlassifier__n_neighbors' : [13],\n",
    "          'pipeline-1__KNNlassifier__p' : [1],\n",
    "          #'pipeline-1__': [],\n",
    "          # Expr params \n",
    "          'pipeline-2__chi2filterFscore__k': [25],\n",
    "          'pipeline-2__RFClassifier__max_features' : [.2],\n",
    "          'pipeline-2__RFClassifier__min_samples_split' : [.4],\n",
    "          'pipeline-2__RFClassifier__n_estimators' : [15],\n",
    "          'pipeline-2__RFClassifier__max_depth' : [11],\n",
    "          #'pipeline-2__': [],\n",
    "          # Mut params\n",
    "          'pipeline-3__chi2filterFscore__k': [50],\n",
    "          'pipeline-3__RFClassifier__max_features' : [.2],\n",
    "          'pipeline-3__RFClassifier__min_samples_split' : [.01],\n",
    "          'pipeline-3__RFClassifier__n_estimators' : [15],\n",
    "          'pipeline-3__RFClassifier__max_depth' : [11],\n",
    "          #'pipeline-3__' : [],\n",
    "          # CNV params\n",
    "          'pipeline-4__WardAgg__n_clusters' : [40],\n",
    "          'pipeline-4__chi2filterFscore__k': [12],\n",
    "          'pipeline-4__RFClassifier__max_features' : [.4],\n",
    "          'pipeline-4__RFClassifier__min_samples_split' : [.4],\n",
    "          'pipeline-4__RFClassifier__n_estimators' : [10],\n",
    "          'pipeline-4__RFClassifier__max_depth' : [3],\n",
    "          # clin params\n",
    "          'pipeline-5__chi2filterFscore__k': [10],\n",
    "          'pipeline-5__chi2filterFscore__k': [25],\n",
    "          'pipeline-5__RFClassifier__max_depth' : [4],\n",
    "          # meta classifier params\n",
    "          'meta_classifier__C':  np.linspace(.01, .9, 10, endpoint=True)\n",
    "          }\n",
    "\n",
    "# Set up the random search with 4-fold stratified cross validation\n",
    "skf = StratifiedKFold(n_splits=4,shuffle=True,random_state=42)\n",
    "grid = GridSearchCV(estimator=sclf, \n",
    "                    param_grid=hyperparameter_grid, \n",
    "                    n_jobs=-1,\n",
    "                    cv=skf,\n",
    "                    refit=True,\n",
    "                    verbose=2)\n",
    "grid.fit(X_train, y_train)\n",
    "\n",
    "cv_keys = ('mean_test_score', 'std_test_score', 'params')\n",
    "\n",
    "for r, _ in enumerate(grid.cv_results_['mean_test_score']):\n",
    "    print(\"%0.3f +/- %0.2f %r\"\n",
    "          % (grid.cv_results_[cv_keys[0]][r],\n",
    "             grid.cv_results_[cv_keys[1]][r] / 2.0,\n",
    "             grid.cv_results_[cv_keys[2]][r]))\n"
   ]
  },
  {
   "cell_type": "markdown",
   "metadata": {},
   "source": [
    "# Results\n",
    "Show graphs and stats here"
   ]
  },
  {
   "cell_type": "code",
   "execution_count": 33,
   "metadata": {},
   "outputs": [
    {
     "name": "stdout",
     "output_type": "stream",
     "text": [
      "Best parameters: {'meta_classifier__C': 0.40555555555555556, 'pipeline-1__KNNlassifier__n_neighbors': 13, 'pipeline-1__KNNlassifier__p': 1, 'pipeline-2__RFClassifier__max_depth': 11, 'pipeline-2__RFClassifier__max_features': 0.2, 'pipeline-2__RFClassifier__min_samples_split': 0.4, 'pipeline-2__RFClassifier__n_estimators': 15, 'pipeline-2__chi2filterFscore__k': 25, 'pipeline-3__RFClassifier__max_depth': 11, 'pipeline-3__RFClassifier__max_features': 0.2, 'pipeline-3__RFClassifier__min_samples_split': 0.01, 'pipeline-3__RFClassifier__n_estimators': 15, 'pipeline-3__chi2filterFscore__k': 50, 'pipeline-4__RFClassifier__max_depth': 3, 'pipeline-4__RFClassifier__max_features': 0.4, 'pipeline-4__RFClassifier__min_samples_split': 0.4, 'pipeline-4__RFClassifier__n_estimators': 10, 'pipeline-4__WardAgg__n_clusters': 40, 'pipeline-4__chi2filterFscore__k': 12, 'pipeline-5__RFClassifier__max_depth': 4, 'pipeline-5__chi2filterFscore__k': 25}\n",
      "Accuracy: 0.79\n"
     ]
    }
   ],
   "source": [
    "\n",
    "print('Best parameters: %s' % grid.best_params_)\n",
    "print('Accuracy: %.2f' % grid.best_score_)"
   ]
  },
  {
   "cell_type": "code",
   "execution_count": 34,
   "metadata": {},
   "outputs": [],
   "source": [
    "# pickle best model from gridCV\n",
    "model_filename = \"models/stacked_Omics_binary_MultiCVclassifier_clin+exprPROGENyHALLMARKS+highCNagg+MethK5cluster.pkl\" \n",
    "\n",
    "\n",
    "with open(model_filename,'wb') as f:\n",
    "    pickle.dump(grid.best_estimator_,f)\n"
   ]
  },
  {
   "cell_type": "code",
   "execution_count": 35,
   "metadata": {},
   "outputs": [
    {
     "name": "stdout",
     "output_type": "stream",
     "text": [
      "Accuracy on test set: 0.772\n",
      "              precision    recall  f1-score   support\n",
      "\n",
      "          PD       0.85      0.72      0.78        32\n",
      "       SD-OR       0.70      0.84      0.76        25\n",
      "\n",
      "    accuracy                           0.77        57\n",
      "   macro avg       0.78      0.78      0.77        57\n",
      "weighted avg       0.79      0.77      0.77        57\n",
      "\n"
     ]
    },
    {
     "data": {
      "text/plain": [
       "<sklearn.metrics._plot.confusion_matrix.ConfusionMatrixDisplay at 0x7fa4837c7130>"
      ]
     },
     "execution_count": 35,
     "metadata": {},
     "output_type": "execute_result"
    },
    {
     "data": {
      "text/plain": [
       "0.8150000000000001"
      ]
     },
     "execution_count": 35,
     "metadata": {},
     "output_type": "execute_result"
    },
    {
     "data": {
      "image/png": "[encoded data removed]",
      "text/plain": [
       "<Figure size 432x288 with 2 Axes>"
      ]
     },
     "metadata": {},
     "output_type": "display_data"
    }
   ],
   "source": [
    "\n",
    "# load the model from file\n",
    "classifier = pickle.load(open(model_filename, 'rb'))\n",
    "# assess best classifier performance on test set\n",
    "grid_test_score = classifier.score(X_test, y_test)\n",
    "y_pred = classifier.predict(X_test)\n",
    "print(f'Accuracy on test set: {grid_test_score:.3f}')\n",
    "# print classification report on test set\n",
    "print(classification_report(y_test, y_pred, target_names=['PD', 'SD-OR']))\n",
    "\n",
    "\n",
    "# In[71]:\n",
    "\n",
    "\n",
    "#confusion_matrix = confusion_matrix(y_test, y_pred)\n",
    "plot_confusion_matrix(classifier, X_test, y_test,\n",
    "                                 display_labels=['PD', 'SD-OR'],\n",
    "                                 cmap=plt.cm.Blues)\n",
    "\n",
    "\n",
    "# In[72]:\n",
    "\n",
    "\n",
    "# Learn to predict e/a class against e/a other\n",
    "#OVRclassifier = OneVsRestClassifier(classifier)\n",
    "# returns the marginal probability that the given sample has the label in question\n",
    "y_test_predict_proba = classifier.predict_proba(X_test)\n",
    "roc_auc_score(y_test, y_test_predict_proba[:, 1])"
   ]
  },
  {
   "cell_type": "markdown",
   "metadata": {},
   "source": [
    "# Conclusions and Next Steps\n",
    "Summarize findings here"
   ]
  },
  {
   "cell_type": "code",
   "execution_count": null,
   "metadata": {},
   "outputs": [],
   "source": []
  }
 ],
 "metadata": {
  "interpreter": {
   "hash": "b2972cb107c313313bc130e85ac9dd8d60730b33e1d100c5607eb667e2f34546"
  },
  "kernelspec": {
   "display_name": "Python 3.8.5 64-bit ('PDx_py': conda)",
   "name": "python3"
  },
  "language_info": {
   "codemirror_mode": {
    "name": "ipython",
    "version": 3
   },
   "file_extension": ".py",
   "mimetype": "text/x-python",
   "name": "python",
   "nbconvert_exporter": "python",
   "pygments_lexer": "ipython3",
   "version": "3.8.5"
  }
 },
 "nbformat": 4,
 "nbformat_minor": 4
}
