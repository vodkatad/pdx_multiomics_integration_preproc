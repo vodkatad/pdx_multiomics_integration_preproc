{
 "cells": [
  {
   "cell_type": "markdown",
   "source": [
    "# Introduction\n",
    "State notebook purpose here"
   ],
   "metadata": {}
  },
  {
   "cell_type": "markdown",
   "source": [
    "### Imports\n",
    "Import libraries and write settings here."
   ],
   "metadata": {}
  },
  {
   "cell_type": "code",
   "execution_count": 1,
   "source": [
    "# Data manipulation\n",
    "import pandas as pd\n",
    "import numpy as np\n",
    "import warnings\n",
    "\n",
    "# Options for pandas\n",
    "# No warnings about setting value on copy of slice\n",
    "pd.options.mode.chained_assignment = None\n",
    "pd.options.display.max_columns = 600\n",
    "pd.options.display.max_rows = 30\n",
    "\n",
    "# Display all cell outputs\n",
    "from IPython.core.interactiveshell import InteractiveShell\n",
    "InteractiveShell.ast_node_interactivity = 'all'\n",
    "\n",
    "from IPython import get_ipython\n",
    "ipython = get_ipython()\n",
    "\n",
    "# autoreload extension\n",
    "if 'autoreload' not in ipython.extension_manager.loaded:\n",
    "    get_ipython().run_line_magic('load_ext', 'autoreload')\n",
    "\n",
    "get_ipython().run_line_magic('autoreload', '2')\n",
    "\n",
    "\n",
    "# scalers\n",
    "from sklearn.preprocessing import StandardScaler, MinMaxScaler\n",
    "\n",
    "# models\n",
    "from sklearn.svm import LinearSVC, SVC\n",
    "from sklearn.linear_model import LogisticRegression\n",
    "from sklearn.neighbors import KNeighborsClassifier\n",
    "from sklearn.naive_bayes import GaussianNB \n",
    "from sklearn.ensemble import RandomForestClassifier, ExtraTreesClassifier\n",
    "from mlxtend.classifier import StackingClassifier, StackingCVClassifier\n",
    "from mlxtend.classifier import LogisticRegression as extLogisticRegression\n",
    "# xgboost\n",
    "from xgboost import XGBClassifier\n",
    "\n",
    "# processing\n",
    "from sklearn.preprocessing import label_binarize\n",
    "from sklearn.model_selection import StratifiedKFold\n",
    "from sklearn.pipeline import Pipeline\n",
    "from mlxtend.feature_selection import ColumnSelector\n",
    "from sklearn import model_selection\n",
    "\n",
    "# feature selection\n",
    "from sklearn.feature_selection import f_classif, SelectKBest, VarianceThreshold, chi2\n",
    "\n",
    "# feature agglomeration\n",
    "from sklearn.cluster import FeatureAgglomeration\n",
    "\n",
    "# benchmark\n",
    "from sklearn.multiclass import OneVsRestClassifier\n",
    "from sklearn.metrics import roc_curve, multilabel_confusion_matrix, auc, matthews_corrcoef, roc_auc_score, accuracy_score, classification_report, confusion_matrix, plot_confusion_matrix\n",
    "# Hyperparameter tuning\n",
    "from sklearn.model_selection import RandomizedSearchCV, GridSearchCV\n",
    "\n",
    "import pickle\n",
    "\n",
    "# Visualizations\n",
    "import matplotlib.pyplot as plt\n",
    "# Set default font size\n",
    "plt.rcParams['font.size'] = 24\n",
    "import seaborn as sb\n",
    "# Set default font size\n",
    "sb.set(font_scale = .8)\n",
    "custom_style = {'axes.labelcolor': 'black',\n",
    "                'xtick.color': 'black',\n",
    "                'ytick.color': 'black'}\n",
    "sb.set_style(\"white\", rc=custom_style)\n",
    "\n",
    "# Interactive Visualizations\n",
    "# import plotly.plotly as py\n",
    "# import plotly.graph_objs as go\n",
    "# from plotly.offline import iplot, init_notebook_mode\n",
    "# init_notebook_mode(connected=True)\n",
    "\n",
    "# import cufflinks as cf\n",
    "# cf.go_offline(connected=True)\n",
    "# icf.set_config_file(theme='white')"
   ],
   "outputs": [],
   "metadata": {}
  },
  {
   "cell_type": "markdown",
   "source": [
    "# Analysis/Modeling\n",
    "Do work here"
   ],
   "metadata": {}
  },
  {
   "cell_type": "code",
   "execution_count": 2,
   "source": [
    "target_col = \"Cetuximab_Standard_3wks_cat\"\n",
    "\n",
    "# K5 clusters encoded meth probes\n",
    "f = \"tables/preprocessed_features/methK5Clusters.tsv\"\n",
    "Meth = pd.read_csv(f, sep=\"\\t\", header=0, index_col=0)\n",
    "Meth = Meth[Meth.columns.drop(list(Meth.filter(regex='Cetuximab')))]\n",
    "\n",
    "# exncoded expr data w/t progeny pathway activity scores\n",
    "f = \"tables/preprocessed_features/exprPath.tsv\"\n",
    "Expr = pd.read_csv(f, sep=\"\\t\", header=0, index_col=0)\n",
    "Expr = Expr[Expr.columns.drop(list(Expr.filter(regex='Cetuximab')))]\n",
    "Expr.columns = [c + \"_expr\" for c in Expr.columns]\n",
    "\n",
    "f = \"tables/preprocessed_features/CNV.tsv\"\n",
    "CNV = pd.read_csv(f, sep=\"\\t\", header=0, index_col=0)\n",
    "CNV = CNV[CNV.columns.drop(list(CNV.filter(regex='Cetuximab')))]\n",
    "CNV.columns = [c + \"_cnv\" for c in CNV.columns]\n",
    "\n",
    "f = \"tables/preprocessed_features/mut_ComboMulti.tsv\"\n",
    "Mut = pd.read_csv(f, sep=\"\\t\", header=0, index_col=0)\n",
    "Mut = Mut[Mut.columns.drop(list(Mut.filter(regex='Cetuximab')))]\n",
    "Mut.columns = [c + \"_mut\" for c in Mut.columns]\n",
    "\n",
    "# add clinical data\n",
    "f = 'tables/preprocessed_features/clin.tsv'\n",
    "Clin = pd.read_csv(f, sep=\"\\t\", header=0, index_col=0)\n",
    "Clin = Clin[Clin.columns.drop(list(Clin.filter(regex='Cetuximab')))]\n",
    "Clin.columns = [c + \"_clin\" for c in Clin.columns]\n",
    "\n",
    "f = \"tables/DrugResponse_LMXfirslevel_trainTest.csv\"\n",
    "Y = pd.read_csv(f, sep=\"\\t\", index_col=1, header=0)\n",
    "# encode target\n",
    "Y_class_dict={'PD':0,'SD':1, 'OR':1}\n",
    "Y[target_col] = Y[target_col].replace(Y_class_dict)\n",
    "\n",
    "df1 = pd.merge(Mut, CNV, right_index=True, left_index=True, how=\"outer\")\n",
    "df2 = pd.merge(Meth, Expr, right_index=True, left_index=True, how=\"outer\")\n",
    "all_df = pd.merge(df2, df1, right_index=True, left_index=True, how=\"outer\")\n",
    "all_df = pd.merge(all_df, Clin, right_index=True, left_index=True, how=\"outer\")\n",
    "feature_col = all_df.columns.tolist()\n",
    "all_df =  all_df.select_dtypes([np.number])\n",
    "all_df = pd.merge(all_df, Y[target_col], right_index=True, left_index=True, how=\"right\")\n",
    "\n",
    "# fillna in features with median imputation\n",
    "all_df[feature_col] = all_df[feature_col].    astype(float).apply(lambda col:col.fillna(col.median()))\n",
    "# drop duplicated instances (ircc_id) from index\n",
    "all_df = all_df[~all_df.index.duplicated(keep='first')]\n",
    "\n",
    "top5 = [\n",
    "        \"KRAS_BRAF_NRAS_triple_neg_mut\",\n",
    "        \"EGFR_expr\",\n",
    "        \"MAPK_expr\",\n",
    "        \"TGFb_expr\",\n",
    "        \"KRAS_mut\"\n",
    "]\n",
    "\n",
    "# train-test split\n",
    "train_models = Y[Y.is_test == False].index.unique()\n",
    "test_models = Y[Y.is_test == True].index.unique()\n",
    "X_train = all_df.loc[train_models, top5]\n",
    "y_train  = all_df.loc[train_models, target_col]\n",
    "X_test = all_df.loc[test_models, top5]\n",
    "y_test = all_df.loc[test_models, target_col]\n",
    "\n",
    "#scale features sapartaely\n",
    "scaler = MinMaxScaler().fit(X_train)\n",
    "X_train = pd.DataFrame(scaler.transform(X_train.values),\n",
    "          columns=X_train.columns, index=X_train.index)              \n",
    "X_test = pd.DataFrame(scaler.transform(X_test.values),\n",
    "          columns=X_test.columns, index=X_test.index)    \n",
    "X_train.shape\n",
    "X_test.shape\n"
   ],
   "outputs": [
    {
     "output_type": "execute_result",
     "data": {
      "text/plain": [
       "(174, 5)"
      ]
     },
     "metadata": {},
     "execution_count": 2
    },
    {
     "output_type": "execute_result",
     "data": {
      "text/plain": [
       "(57, 5)"
      ]
     },
     "metadata": {},
     "execution_count": 2
    }
   ],
   "metadata": {}
  },
  {
   "cell_type": "code",
   "execution_count": 3,
   "source": [
    "# basic classifier accuracy test\n",
    "lr = LogisticRegression().fit(X_train, y_train)\n",
    "svm = LinearSVC().fit(X_train, y_train)\n",
    "knc = KNeighborsClassifier().fit(X_train, y_train)\n",
    "rfc = RandomForestClassifier().fit(X_train, y_train)\n",
    "xgc = XGBClassifier().fit(X_train, y_train)\n",
    "[(model, accuracy_score(y_test, model.predict(X_test))) for model in [lr, svm, knc, rfc, xgc]]"
   ],
   "outputs": [
    {
     "output_type": "stream",
     "name": "stderr",
     "text": [
      "/home/umberto.perron/anaconda3/envs/PDx_py_combio02/lib/python3.8/site-packages/xgboost/sklearn.py:888: UserWarning: The use of label encoder in XGBClassifier is deprecated and will be removed in a future release. To remove this warning, do the following: 1) Pass option use_label_encoder=False when constructing XGBClassifier object; and 2) Encode your labels (y) as integers starting with 0, i.e. 0, 1, 2, ..., [num_class - 1].\n",
      "  warnings.warn(label_encoder_deprecation_msg, UserWarning)\n"
     ]
    },
    {
     "output_type": "stream",
     "name": "stdout",
     "text": [
      "[13:59:03] WARNING: ../src/learner.cc:1061: Starting in XGBoost 1.3.0, the default evaluation metric used with the objective 'binary:logistic' was changed from 'error' to 'logloss'. Explicitly set eval_metric if you'd like to restore the old behavior.\n"
     ]
    },
    {
     "output_type": "execute_result",
     "data": {
      "text/plain": [
       "[(LogisticRegression(), 0.7719298245614035),\n",
       " (LinearSVC(), 0.7719298245614035),\n",
       " (KNeighborsClassifier(), 0.6140350877192983),\n",
       " (RandomForestClassifier(), 0.7017543859649122),\n",
       " (XGBClassifier(base_score=0.5, booster='gbtree', colsample_bylevel=1,\n",
       "                colsample_bynode=1, colsample_bytree=1, gamma=0, gpu_id=-1,\n",
       "                importance_type='gain', interaction_constraints='',\n",
       "                learning_rate=0.300000012, max_delta_step=0, max_depth=6,\n",
       "                min_child_weight=1, missing=nan, monotone_constraints='()',\n",
       "                n_estimators=100, n_jobs=4, num_parallel_tree=1, random_state=0,\n",
       "                reg_alpha=0, reg_lambda=1, scale_pos_weight=1, subsample=1,\n",
       "                tree_method='exact', validate_parameters=1, verbosity=None),\n",
       "  0.631578947368421)]"
      ]
     },
     "metadata": {},
     "execution_count": 3
    }
   ],
   "metadata": {}
  },
  {
   "cell_type": "markdown",
   "source": [
    "# Results\n",
    "Show graphs and stats here"
   ],
   "metadata": {}
  },
  {
   "cell_type": "code",
   "execution_count": 5,
   "source": [
    "# load the model from file\n",
    "classifier = lr\n",
    "# assess best classifier performance on test set\n",
    "grid_test_score = classifier.score(X_test, y_test)\n",
    "y_pred = classifier.predict(X_test)\n",
    "print(f'Accuracy on test set: {grid_test_score:.3f}')\n",
    "# print classification report on test set\n",
    "print(classification_report(y_test, y_pred, target_names=['PD', 'SD-OR']))\n",
    "\n",
    "\n",
    "# In[71]:\n",
    "\n",
    "\n",
    "#confusion_matrix = confusion_matrix(y_test, y_pred)\n",
    "plot_confusion_matrix(classifier, X_test, y_test,\n",
    "                                 display_labels=['PD', 'SD-OR'],\n",
    "                                 cmap=plt.cm.Blues)\n",
    "\n",
    "\n",
    "# In[72]:\n",
    "\n",
    "\n",
    "# Learn to predict e/a class against e/a other\n",
    "#OVRclassifier = OneVsRestClassifier(classifier)\n",
    "# returns the marginal probability that the given sample has the label in question\n",
    "y_test_predict_proba = classifier.predict_proba(X_test)\n",
    "roc_auc_score(y_test, y_test_predict_proba[:, 1])"
   ],
   "outputs": [
    {
     "output_type": "stream",
     "name": "stdout",
     "text": [
      "Accuracy on test set: 0.772\n",
      "              precision    recall  f1-score   support\n",
      "\n",
      "          PD       0.95      0.62      0.75        32\n",
      "       SD-OR       0.67      0.96      0.79        25\n",
      "\n",
      "    accuracy                           0.77        57\n",
      "   macro avg       0.81      0.79      0.77        57\n",
      "weighted avg       0.83      0.77      0.77        57\n",
      "\n"
     ]
    },
    {
     "output_type": "execute_result",
     "data": {
      "text/plain": [
       "<sklearn.metrics._plot.confusion_matrix.ConfusionMatrixDisplay at 0x7fa0ea637970>"
      ]
     },
     "metadata": {},
     "execution_count": 5
    },
    {
     "output_type": "execute_result",
     "data": {
      "text/plain": [
       "0.78"
      ]
     },
     "metadata": {},
     "execution_count": 5
    },
    {
     "output_type": "display_data",
     "data": {
      "text/plain": [
       "<Figure size 432x288 with 2 Axes>"
      ],
      "image/png": "[encoded data removed]"
     },
     "metadata": {}
    }
   ],
   "metadata": {}
  },
  {
   "cell_type": "markdown",
   "source": [
    "# Conclusions and Next Steps\n",
    "Summarize findings here"
   ],
   "metadata": {}
  },
  {
   "cell_type": "code",
   "execution_count": null,
   "source": [],
   "outputs": [],
   "metadata": {}
  }
 ],
 "metadata": {
  "kernelspec": {
   "name": "python3",
   "display_name": "Python 3.8.5 64-bit ('PDx_py_combio02': conda)"
  },
  "language_info": {
   "codemirror_mode": {
    "name": "ipython",
    "version": 3
   },
   "file_extension": ".py",
   "mimetype": "text/x-python",
   "name": "python",
   "nbconvert_exporter": "python",
   "pygments_lexer": "ipython3",
   "version": "3.8.5"
  },
  "interpreter": {
   "hash": "00eb3df658785065deb6e848375bdab9b705d39da5f220baeb1f185f534eb99b"
  }
 },
 "nbformat": 4,
 "nbformat_minor": 4
}