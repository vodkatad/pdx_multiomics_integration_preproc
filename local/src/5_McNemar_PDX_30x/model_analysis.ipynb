{
 "cells": [
  {
   "cell_type": "markdown",
   "metadata": {},
   "source": [
    "# Introduction\n",
    "State notebook purpose here"
   ]
  },
  {
   "cell_type": "markdown",
   "metadata": {},
   "source": [
    "### Imports\n",
    "Import libraries and write settings here."
   ]
  },
  {
   "cell_type": "code",
   "execution_count": 3,
   "metadata": {},
   "outputs": [],
   "source": [
    "# Data manipulation\n",
    "import pandas as pd\n",
    "import numpy as np\n",
    "import warnings\n",
    "\n",
    "# Options for pandas\n",
    "# No warnings about setting value on copy of slice\n",
    "pd.options.mode.chained_assignment = None\n",
    "pd.options.display.max_columns = 600\n",
    "pd.options.display.max_rows = 30\n",
    "\n",
    "# Display all cell outputs\n",
    "from IPython.core.interactiveshell import InteractiveShell\n",
    "InteractiveShell.ast_node_interactivity = 'all'\n",
    "\n",
    "from IPython import get_ipython\n",
    "ipython = get_ipython()\n",
    "\n",
    "# autoreload extension\n",
    "if 'autoreload' not in ipython.extension_manager.loaded:\n",
    "    %load_ext autoreload\n",
    "\n",
    "%autoreload 2\n",
    "\n",
    "\n",
    "# scalers\n",
    "from sklearn.preprocessing import StandardScaler, MinMaxScaler\n",
    "\n",
    "# models\n",
    "from sklearn.svm import LinearSVC, SVC\n",
    "from sklearn.linear_model import LogisticRegression\n",
    "from sklearn.neighbors import KNeighborsClassifier\n",
    "from sklearn.naive_bayes import GaussianNB \n",
    "from sklearn.ensemble import RandomForestClassifier, ExtraTreesClassifier\n",
    "from mlxtend.classifier import StackingClassifier, StackingCVClassifier\n",
    "# xgboost\n",
    "#from xgboost import XGBClassifier\n",
    "\n",
    "# processing\n",
    "from sklearn.preprocessing import label_binarize\n",
    "from sklearn.model_selection import StratifiedKFold\n",
    "from sklearn.pipeline import Pipeline\n",
    "from mlxtend.feature_selection import ColumnSelector\n",
    "from sklearn import model_selection\n",
    "\n",
    "# feature selection\n",
    "from sklearn.feature_selection import SelectFdr, f_classif, SelectKBest, SelectFromModel, VarianceThreshold, chi2\n",
    "\n",
    "# benchmark\n",
    "import random\n",
    "from sklearn.multiclass import OneVsRestClassifier\n",
    "from sklearn.metrics import roc_curve, auc, matthews_corrcoef, roc_auc_score, accuracy_score, classification_report, confusion_matrix, plot_confusion_matrix\n",
    "# Hyperparameter tuning\n",
    "from sklearn.model_selection import RandomizedSearchCV, GridSearchCV\n",
    "\n",
    "import pickle\n",
    "import shap\n",
    "import eli5\n",
    "from eli5.sklearn import PermutationImportance\n",
    "\n",
    "# Visualizations\n",
    "import matplotlib.pyplot as plt\n",
    "from matplotlib.patches import Patch\n",
    "# Set default font size\n",
    "plt.rcParams['font.size'] = 24\n",
    "import seaborn as sb\n",
    "# Set default font size\n",
    "sb.set(font_scale = 1.2)\n",
    "custom_style = {'axes.labelcolor': 'black',\n",
    "                'xtick.color': 'black',\n",
    "                'ytick.color': 'black'}\n",
    "sb.set_style(\"white\", rc=custom_style)\n",
    "\n",
    "\n",
    "# Interactive Visualizations\n",
    "# import plotly.plotly as py\n",
    "# import plotly.graph_objs as go\n",
    "# from plotly.offline import iplot, init_notebook_mode\n",
    "# init_notebook_mode(connected=True)\n",
    "\n",
    "# import cufflinks as cf\n",
    "# cf.go_offline(connected=True)\n",
    "# icf.set_config_file(theme='white')"
   ]
  },
  {
   "cell_type": "markdown",
   "metadata": {},
   "source": [
    "# Analysis/Modeling\n",
    "Do work here"
   ]
  },
  {
   "cell_type": "code",
   "execution_count": 4,
   "metadata": {},
   "outputs": [],
   "source": [
    "model_file = \"../../../dataset/5_McNemar_PDX_30x/OmicsBinary_StackingCVClassifier_mutCross+clin+exprPROGENyHALLMARKS+highCNagg+MethK5cluster0.pkl\"\n",
    "classifier = pickle.load(open(model_file, 'rb'))\n",
    "X_file = \"../../../dataset/5_McNemar_PDX_30x/mutCross+clin+exprPROGENyHALLMARKS+highCNagg+MethK5cluster0_Xtest.tsv\"\n",
    "X_test = pd.read_csv(X_file, sep='\\t', header=0, index_col=0)\n",
    "target_col = \"Cetuximab_Standard_3wks_cat\"\n",
    "Y_file =  \"../../../dataset/5_McNemar_PDX_30x/OmicsBinary0_Ytest.tsv\"\n",
    "Y_test = pd.read_csv(Y_file, sep='\\t', header=0, index_col=0)\n",
    "response_file = \"../../../dataset/5_McNemar_PDX_30x/DrugResponse_LMXfirslevel_trainTest0.tsv\" \n",
    "response = pd.read_csv(response_file, sep='\\t', header=0, index_col=1)"
   ]
  },
  {
   "cell_type": "markdown",
   "metadata": {},
   "source": [
    "# Results\n",
    "Show graphs and stats here"
   ]
  },
  {
   "cell_type": "markdown",
   "metadata": {},
   "source": [
    "### Assess model performance on test set"
   ]
  },
  {
   "cell_type": "code",
   "execution_count": 5,
   "metadata": {},
   "outputs": [
    {
     "name": "stdout",
     "output_type": "stream",
     "text": [
      "Accuracy on test set: 0.843\n",
      "              precision    recall  f1-score   support\n",
      "\n",
      "          PD       0.84      0.82      0.83        33\n",
      "       SD+OR       0.84      0.86      0.85        37\n",
      "\n",
      "    accuracy                           0.84        70\n",
      "   macro avg       0.84      0.84      0.84        70\n",
      "weighted avg       0.84      0.84      0.84        70\n",
      "\n"
     ]
    }
   ],
   "source": [
    "# assess classifier performance on test set\n",
    "grid_test_score = classifier.score(X_test, Y_test)\n",
    "y_pred = classifier.predict(X_test)\n",
    "print(f'Accuracy on test set: {grid_test_score:.3f}')\n",
    "print(classification_report(Y_test, y_pred, target_names=['PD', 'SD+OR']))"
   ]
  },
  {
   "cell_type": "code",
   "execution_count": 6,
   "metadata": {},
   "outputs": [
    {
     "data": {
      "text/plain": [
       "[<matplotlib.lines.Line2D at 0x7fe447cc4c70>]"
      ]
     },
     "execution_count": 6,
     "metadata": {},
     "output_type": "execute_result"
    },
    {
     "data": {
      "text/plain": [
       "[<matplotlib.lines.Line2D at 0x7fe447e18100>]"
      ]
     },
     "execution_count": 6,
     "metadata": {},
     "output_type": "execute_result"
    },
    {
     "data": {
      "text/plain": [
       "[<matplotlib.lines.Line2D at 0x7fe447e18250>]"
      ]
     },
     "execution_count": 6,
     "metadata": {},
     "output_type": "execute_result"
    },
    {
     "data": {
      "text/plain": [
       "(0.0, 1.0)"
      ]
     },
     "execution_count": 6,
     "metadata": {},
     "output_type": "execute_result"
    },
    {
     "data": {
      "text/plain": [
       "(0.0, 1.05)"
      ]
     },
     "execution_count": 6,
     "metadata": {},
     "output_type": "execute_result"
    },
    {
     "data": {
      "text/plain": [
       "Text(0.5, 0, 'False Positive Rate')"
      ]
     },
     "execution_count": 6,
     "metadata": {},
     "output_type": "execute_result"
    },
    {
     "data": {
      "text/plain": [
       "Text(0, 0.5, 'True Positive Rate')"
      ]
     },
     "execution_count": 6,
     "metadata": {},
     "output_type": "execute_result"
    },
    {
     "data": {
      "text/plain": [
       "Text(0.5, 1.0, 'ROC Curve')"
      ]
     },
     "execution_count": 6,
     "metadata": {},
     "output_type": "execute_result"
    },
    {
     "data": {
      "text/plain": [
       "<matplotlib.legend.Legend at 0x7fe447cb1880>"
      ]
     },
     "execution_count": 6,
     "metadata": {},
     "output_type": "execute_result"
    },
    {
     "data": {
      "image/png": "[encoded data removed]",
      "text/plain": [
       "<Figure size 432x432 with 1 Axes>"
      ]
     },
     "metadata": {},
     "output_type": "display_data"
    }
   ],
   "source": [
    "# returns the marginal probability that the given sample has the label in question\n",
    "y_test_predict_proba = classifier.predict_proba(X_test)\n",
    "# plot ROC\n",
    "fp_rates, tp_rates, _ = roc_curve(Y_test,y_test_predict_proba[:,1])\n",
    "roc_auc = auc(fp_rates, tp_rates)\n",
    "fig, ax = plt.subplots(figsize=(6,6))\n",
    "plt.plot(fp_rates, tp_rates, color='green',\n",
    "            lw=1.5, label='ROC curve (area = %0.2f)' % roc_auc)\n",
    "plt.plot([0, 1], [0, 1], lw=1, linestyle='--', color='grey')\n",
    "\n",
    "#plot decision point:\n",
    "cm = confusion_matrix(Y_test, y_pred)\n",
    "tn, fp, fn, tp = [i for i in cm.ravel()]\n",
    "plt.plot(fp/(fp+tn), tp/(tp+fn), 'bo', markersize=8, label='Decision Point')\n",
    "plt.xlim([0.0, 1.0])\n",
    "plt.ylim([0.0, 1.05])\n",
    "plt.xlabel('False Positive Rate', size=13)\n",
    "plt.ylabel('True Positive Rate', size=13)\n",
    "plt.title('ROC Curve', size=15)\n",
    "plt.legend(loc=\"lower right\", prop={'size': 10})\n",
    "plt.subplots_adjust(wspace=.3)\n",
    "plt.savefig(\"bestStackedCVClassifier_AUC.pdf\", \n",
    "                format='pdf', dpi=720, bbox_inches='tight')"
   ]
  },
  {
   "cell_type": "code",
   "execution_count": 7,
   "metadata": {},
   "outputs": [
    {
     "data": {
      "text/html": [
       "<div>\n",
       "<style scoped>\n",
       "    .dataframe tbody tr th:only-of-type {\n",
       "        vertical-align: middle;\n",
       "    }\n",
       "\n",
       "    .dataframe tbody tr th {\n",
       "        vertical-align: top;\n",
       "    }\n",
       "\n",
       "    .dataframe thead th {\n",
       "        text-align: right;\n",
       "    }\n",
       "</style>\n",
       "<table border=\"1\" class=\"dataframe\">\n",
       "  <thead>\n",
       "    <tr style=\"text-align: right;\">\n",
       "      <th></th>\n",
       "      <th>Y</th>\n",
       "      <th>rand_cont</th>\n",
       "      <th>stackedCVClassifier</th>\n",
       "      <th>stackedCVClassifier_prob</th>\n",
       "      <th>tripleNeg</th>\n",
       "    </tr>\n",
       "  </thead>\n",
       "  <tbody>\n",
       "    <tr>\n",
       "      <th>0</th>\n",
       "      <td>1</td>\n",
       "      <td>0.200343</td>\n",
       "      <td>1</td>\n",
       "      <td>0.788648</td>\n",
       "      <td>1.0</td>\n",
       "    </tr>\n",
       "    <tr>\n",
       "      <th>1</th>\n",
       "      <td>0</td>\n",
       "      <td>0.657512</td>\n",
       "      <td>0</td>\n",
       "      <td>0.136985</td>\n",
       "      <td>0.0</td>\n",
       "    </tr>\n",
       "    <tr>\n",
       "      <th>2</th>\n",
       "      <td>1</td>\n",
       "      <td>0.059172</td>\n",
       "      <td>1</td>\n",
       "      <td>0.671972</td>\n",
       "      <td>1.0</td>\n",
       "    </tr>\n",
       "    <tr>\n",
       "      <th>3</th>\n",
       "      <td>0</td>\n",
       "      <td>0.958961</td>\n",
       "      <td>1</td>\n",
       "      <td>0.709106</td>\n",
       "      <td>1.0</td>\n",
       "    </tr>\n",
       "    <tr>\n",
       "      <th>4</th>\n",
       "      <td>0</td>\n",
       "      <td>0.941337</td>\n",
       "      <td>0</td>\n",
       "      <td>0.380300</td>\n",
       "      <td>0.0</td>\n",
       "    </tr>\n",
       "    <tr>\n",
       "      <th>...</th>\n",
       "      <td>...</td>\n",
       "      <td>...</td>\n",
       "      <td>...</td>\n",
       "      <td>...</td>\n",
       "      <td>...</td>\n",
       "    </tr>\n",
       "    <tr>\n",
       "      <th>65</th>\n",
       "      <td>1</td>\n",
       "      <td>0.517480</td>\n",
       "      <td>1</td>\n",
       "      <td>0.606179</td>\n",
       "      <td>1.0</td>\n",
       "    </tr>\n",
       "    <tr>\n",
       "      <th>66</th>\n",
       "      <td>0</td>\n",
       "      <td>0.568827</td>\n",
       "      <td>0</td>\n",
       "      <td>0.456263</td>\n",
       "      <td>1.0</td>\n",
       "    </tr>\n",
       "    <tr>\n",
       "      <th>67</th>\n",
       "      <td>1</td>\n",
       "      <td>0.697967</td>\n",
       "      <td>1</td>\n",
       "      <td>0.646846</td>\n",
       "      <td>1.0</td>\n",
       "    </tr>\n",
       "    <tr>\n",
       "      <th>68</th>\n",
       "      <td>0</td>\n",
       "      <td>0.815838</td>\n",
       "      <td>0</td>\n",
       "      <td>0.210597</td>\n",
       "      <td>1.0</td>\n",
       "    </tr>\n",
       "    <tr>\n",
       "      <th>69</th>\n",
       "      <td>0</td>\n",
       "      <td>0.448781</td>\n",
       "      <td>0</td>\n",
       "      <td>0.471286</td>\n",
       "      <td>1.0</td>\n",
       "    </tr>\n",
       "  </tbody>\n",
       "</table>\n",
       "<p>70 rows × 5 columns</p>\n",
       "</div>"
      ],
      "text/plain": [
       "    Y  rand_cont  stackedCVClassifier  stackedCVClassifier_prob  tripleNeg\n",
       "0   1   0.200343                    1                  0.788648        1.0\n",
       "1   0   0.657512                    0                  0.136985        0.0\n",
       "2   1   0.059172                    1                  0.671972        1.0\n",
       "3   0   0.958961                    1                  0.709106        1.0\n",
       "4   0   0.941337                    0                  0.380300        0.0\n",
       ".. ..        ...                  ...                       ...        ...\n",
       "65  1   0.517480                    1                  0.606179        1.0\n",
       "66  0   0.568827                    0                  0.456263        1.0\n",
       "67  1   0.697967                    1                  0.646846        1.0\n",
       "68  0   0.815838                    0                  0.210597        1.0\n",
       "69  0   0.448781                    0                  0.471286        1.0\n",
       "\n",
       "[70 rows x 5 columns]"
      ]
     },
     "execution_count": 7,
     "metadata": {},
     "output_type": "execute_result"
    }
   ],
   "source": [
    "# load triple negative feature\n",
    "f = '../../../dataset/5_McNemar_PDX_30x/preproc_mut0.tsv'\n",
    "tripleNeg_df = pd.read_csv(f, sep='\\t', header=0, \n",
    "\t\t\tindex_col=0)['KRAS_BRAF_NRAS_triple_neg']\n",
    "# merge KRAS-NRAS-BRAF predictions, stacked prediction, truth\n",
    "stacked_y_pred = pd.Series(classifier.predict(X_test), index=X_test.index)\n",
    "tripleNeg_y_pred = tripleNeg_df.loc[X_test.index]\n",
    "pred_df = pd.DataFrame.from_dict({'Y' : Y_test.values[:,0],\n",
    "\t\t\t\t'rand_cont' : [random.uniform(0, 1) for i in range(len(Y_test))],\n",
    "\t\t\t\t'stackedCVClassifier' : stacked_y_pred.values,\n",
    "\t\t\t\t'stackedCVClassifier_prob' : y_test_predict_proba[:,1],\n",
    "\t\t\t\t'tripleNeg' : tripleNeg_y_pred.values})\n",
    "pred_df"
   ]
  },
  {
   "cell_type": "code",
   "execution_count": 59,
   "metadata": {},
   "outputs": [
    {
     "data": {
      "text/plain": [
       "0.16"
      ]
     },
     "execution_count": 59,
     "metadata": {},
     "output_type": "execute_result"
    }
   ],
   "source": [
    "# how many additional (compared to the KRAS-BRAF-NRAS signature) tripleNeg==1 models do we correctly categorise as non-responders (aka PD)?\n",
    "tripleNegResistAll_count = pred_df[(pred_df.Y==0) & (pred_df.tripleNeg ==1)].index.nunique()\n",
    "tripleNegResistPredicted_count = pred_df[(pred_df.Y==0) & (pred_df.tripleNeg ==1) & (pred_df.stackedCVClassifier == 0)].index.nunique() \n",
    "ResistPredicted_count = pred_df[(pred_df.Y==0) & (pred_df.tripleNeg ==0)].index.nunique() \n",
    "tripleNegResistPredicted_count / ResistPredicted_count  # new predicted / previously predicted"
   ]
  },
  {
   "cell_type": "code",
   "execution_count": 60,
   "metadata": {},
   "outputs": [
    {
     "data": {
      "text/plain": [
       "0.0"
      ]
     },
     "execution_count": 60,
     "metadata": {},
     "output_type": "execute_result"
    }
   ],
   "source": [
    "# how many additional (compared to the KRAS-BRAF-NRAS signature) tripleNeg==0 models do we correctly categorise as responders (aka SD-OR)?\n",
    "tripleNegRespondAll_count = pred_df[(pred_df.Y==1) & (pred_df.tripleNeg ==0)].index.nunique()\n",
    "tripleNegRespondPredicted_count = pred_df[(pred_df.Y==1) & (pred_df.tripleNeg ==0) & (pred_df.stackedCVClassifier == 1)].index.nunique() \n",
    "RespondPredicted_count = pred_df[(pred_df.Y==1) & (pred_df.tripleNeg == 1)].index.nunique() \n",
    "tripleNegRespondPredicted_count / RespondPredicted_count # new predicted / previously predicted "
   ]
  },
  {
   "cell_type": "code",
   "execution_count": 40,
   "metadata": {},
   "outputs": [
    {
     "data": {
      "text/plain": [
       "OR+SD    122\n",
       "PD       109\n",
       "Name: Cetuximab_Standard_3wks_cat, dtype: int64"
      ]
     },
     "execution_count": 40,
     "metadata": {},
     "output_type": "execute_result"
    }
   ],
   "source": [
    "f = '../../../dataset/5_McNemar_PDX_30x/DrugResponse_LMXfirslevel_trainTest0.tsv'\n",
    "response_df = pd.read_csv(f, sep='\\t', header=0, \n",
    "\t\t\tindex_col=1)\n",
    "response_df.Cetuximab_Standard_3wks_cat.value_counts()\t\t\t"
   ]
  },
  {
   "cell_type": "code",
   "execution_count": 50,
   "metadata": {},
   "outputs": [
    {
     "data": {
      "text/plain": [
       "Cetuximab_Standard_3wks_cat  KRAS_BRAF_NRAS_triple_neg\n",
       "OR+SD                        1.0                          0.893443\n",
       "                             0.0                          0.106557\n",
       "PD                           0.0                          0.651376\n",
       "                             1.0                          0.348624\n",
       "Name: KRAS_BRAF_NRAS_triple_neg, dtype: float64"
      ]
     },
     "execution_count": 50,
     "metadata": {},
     "output_type": "execute_result"
    },
    {
     "data": {
      "text/plain": [
       "Cetuximab_Standard_3wks_cat  KRAS_BRAF_NRAS_triple_neg\n",
       "OR+SD                        1.0                          109\n",
       "PD                           0.0                           71\n",
       "                             1.0                           38\n",
       "OR+SD                        0.0                           13\n",
       "dtype: int64"
      ]
     },
     "execution_count": 50,
     "metadata": {},
     "output_type": "execute_result"
    }
   ],
   "source": [
    "df1 = pd.concat([response_df.Cetuximab_Standard_3wks_cat, tripleNeg_df], axis=1)\n",
    "df1.groupby('Cetuximab_Standard_3wks_cat').KRAS_BRAF_NRAS_triple_neg.value_counts(normalize=True)\n",
    "df1.value_counts()\n"
   ]
  },
  {
   "cell_type": "markdown",
   "metadata": {},
   "source": [
    "### Investigate wrong predictions"
   ]
  },
  {
   "cell_type": "code",
   "execution_count": 5,
   "metadata": {},
   "outputs": [],
   "source": [
    "# aggregate true labels, predictions, prediction prob\n",
    "pred_df = pd.concat([pd.Series(arr) for arr in [Y_test[target_col].values,\n",
    "                                                 y_pred, \n",
    "                                                 y_test_predict_proba[:, 1]]], axis=1, ignore_index=True)\n",
    "pred_df.index = Y_test.index\n",
    "pred_df.columns = [\"y\", \"pred\", \"prob_SD-OR\"]\n",
    "pred_df[\"ircc_id\"] =Y_test.index\n",
    "\n",
    "pred_df[\"correct\"] = pred_df.y == pred_df.pred\n",
    "pred_df[\"pseudo_residual\"] = np.abs(pred_df.y - pred_df[\"prob_SD-OR\"])\n",
    "# wrong predictions on test\n",
    "# sorted by model confidence in the wrong pred\n",
    "wrong_df = pred_df[pred_df.correct == False].sort_values('pseudo_residual', ascending=False)\n",
    "# right predictions on test sorted by confidence\n",
    "right_df = pred_df[pred_df.correct == True].sort_values('pseudo_residual')\n",
    "# add prediction labels\n",
    "Y_val_dict = Y_class_dict={0:'PD', 1:'SD-OR'}\n",
    "pred_df[\"y_label\"] = pred_df.y.replace(Y_val_dict)\n",
    "pred_df[\"pred_label\"] = pred_df.pred.replace(Y_val_dict)\n",
    "# add disaggregated labels, continous target variableSpred_df\n",
    "pred_df = pd.merge(pred_df,\n",
    "                   response,\n",
    "                   left_index=True, right_index=True)\n",
    "# separate wrong predictions according to error type\n",
    "wrong_PD_preds = pred_df[(pred_df.y_label == 'SD-OR') & (pred_df.pred_label == 'PD')]\n",
    "wrong_SDOR_preds = pred_df[(pred_df.y_label == 'PD') & (pred_df.pred_label == 'SD-OR')]"
   ]
  },
  {
   "cell_type": "code",
   "execution_count": 6,
   "metadata": {},
   "outputs": [
    {
     "data": {
      "text/plain": [
       "<AxesSubplot:xlabel='Cetuximab_Standard_3wks', ylabel='Density'>"
      ]
     },
     "execution_count": 6,
     "metadata": {},
     "output_type": "execute_result"
    },
    {
     "data": {
      "text/plain": [
       "<AxesSubplot:xlabel='Cetuximab_Standard_3wks', ylabel='Density'>"
      ]
     },
     "execution_count": 6,
     "metadata": {},
     "output_type": "execute_result"
    },
    {
     "data": {
      "text/plain": [
       "<AxesSubplot:xlabel='Cetuximab_Standard_3wks', ylabel='Density'>"
      ]
     },
     "execution_count": 6,
     "metadata": {},
     "output_type": "execute_result"
    },
    {
     "data": {
      "text/plain": [
       "<matplotlib.lines.Line2D at 0x7fd270845550>"
      ]
     },
     "execution_count": 6,
     "metadata": {},
     "output_type": "execute_result"
    },
    {
     "data": {
      "text/plain": [
       "<matplotlib.lines.Line2D at 0x7fd270845940>"
      ]
     },
     "execution_count": 6,
     "metadata": {},
     "output_type": "execute_result"
    },
    {
     "data": {
      "image/png": "[encoded data removed]",
      "text/plain": [
       "<Figure size 432x288 with 1 Axes>"
      ]
     },
     "metadata": {},
     "output_type": "display_data"
    }
   ],
   "source": [
    "sb.kdeplot(data=pred_df['Cetuximab_Standard_3wks'], label=\"all\")\n",
    "sb.kdeplot(data=wrong_PD_preds['Cetuximab_Standard_3wks'], label=\"Y:SD-OR;P:PD\")\n",
    "sb.kdeplot(data=wrong_SDOR_preds['Cetuximab_Standard_3wks'], label=\"Y:PD;P:SD-OR\")\n",
    "ax = plt.gca()\n",
    "plt.axvline(x=35)\n",
    "plt.axvline(x=-50)"
   ]
  },
  {
   "cell_type": "code",
   "execution_count": 7,
   "metadata": {},
   "outputs": [
    {
     "name": "stderr",
     "output_type": "stream",
     "text": [
      "The feature_perturbation option is now deprecated in favor of using the appropriate masker (maskers.Independent, or maskers.Impute)\n"
     ]
    },
    {
     "data": {
      "image/png": "[encoded data removed]",
      "text/plain": [
       "<Figure size 576x252 with 1 Axes>"
      ]
     },
     "metadata": {},
     "output_type": "display_data"
    }
   ],
   "source": [
    "# build a linear shap explainer (not Explainer Tree) for meta classifier on test set\n",
    "meta_features_train = classifier.predict_meta_features(X_test)\n",
    "meta_feature_names = ['Meth', 'Expr', 'Mut', 'CNV', 'Clin']\n",
    "explainer =  shap.explainers.Linear(classifier.meta_clf_,\n",
    "                                    masker=meta_features_train,\n",
    "                                    data=meta_features_train,\n",
    "                                    model_output='raw',\n",
    "                                    feature_perturbation='interventional',\n",
    "                                    class_names=[\"PD\", \"OR-SD\"],\n",
    "                                    feature_names=meta_feature_names)\n",
    "meta_shap_values = explainer.shap_values(meta_features_train)\n",
    "\n",
    "g = shap.summary_plot(meta_shap_values, \n",
    "                meta_features_train, \n",
    "                feature_names=meta_feature_names,\n",
    "                show=True, # to save plot to file \n",
    "                plot_type=\"bar\",\n",
    "                max_display=20)"
   ]
  },
  {
   "cell_type": "code",
   "execution_count": 8,
   "metadata": {},
   "outputs": [],
   "source": [
    "#Importing the module\n",
    "from eli5 import show_weights, explain_weights_df,format_as_image \n",
    "from eli5.sklearn import PermutationImportance#Permutation Importance\n",
    "perm = PermutationImportance(classifier, scoring = 'accuracy',random_state=101).fit(X_test, Y_test)\n",
    "explain_weights_df = explain_weights_df(perm, feature_names = list(X_test.columns))"
   ]
  },
  {
   "cell_type": "code",
   "execution_count": 10,
   "metadata": {},
   "outputs": [
    {
     "data": {
      "text/html": [
       "<div>\n",
       "<style scoped>\n",
       "    .dataframe tbody tr th:only-of-type {\n",
       "        vertical-align: middle;\n",
       "    }\n",
       "\n",
       "    .dataframe tbody tr th {\n",
       "        vertical-align: top;\n",
       "    }\n",
       "\n",
       "    .dataframe thead th {\n",
       "        text-align: right;\n",
       "    }\n",
       "</style>\n",
       "<table border=\"1\" class=\"dataframe\">\n",
       "  <thead>\n",
       "    <tr style=\"text-align: right;\">\n",
       "      <th></th>\n",
       "      <th>feature</th>\n",
       "      <th>weight</th>\n",
       "      <th>std</th>\n",
       "    </tr>\n",
       "  </thead>\n",
       "  <tbody>\n",
       "    <tr>\n",
       "      <th>0</th>\n",
       "      <td>KRAS_BRAF_NRAS_triple_neg_mut</td>\n",
       "      <td>0.148571</td>\n",
       "      <td>0.019378</td>\n",
       "    </tr>\n",
       "    <tr>\n",
       "      <th>1</th>\n",
       "      <td>KRAS_mut</td>\n",
       "      <td>0.065714</td>\n",
       "      <td>0.029416</td>\n",
       "    </tr>\n",
       "    <tr>\n",
       "      <th>2</th>\n",
       "      <td>3</td>\n",
       "      <td>0.040000</td>\n",
       "      <td>0.005714</td>\n",
       "    </tr>\n",
       "    <tr>\n",
       "      <th>3</th>\n",
       "      <td>NRAS_mut</td>\n",
       "      <td>0.028571</td>\n",
       "      <td>0.020203</td>\n",
       "    </tr>\n",
       "    <tr>\n",
       "      <th>4</th>\n",
       "      <td>4</td>\n",
       "      <td>0.025714</td>\n",
       "      <td>0.026186</td>\n",
       "    </tr>\n",
       "    <tr>\n",
       "      <th>5</th>\n",
       "      <td>TP53_mut</td>\n",
       "      <td>0.020000</td>\n",
       "      <td>0.014569</td>\n",
       "    </tr>\n",
       "    <tr>\n",
       "      <th>6</th>\n",
       "      <td>PCBP1_mut</td>\n",
       "      <td>0.020000</td>\n",
       "      <td>0.006999</td>\n",
       "    </tr>\n",
       "    <tr>\n",
       "      <th>7</th>\n",
       "      <td>FOXA2_highGain_cnv</td>\n",
       "      <td>0.017143</td>\n",
       "      <td>0.010690</td>\n",
       "    </tr>\n",
       "    <tr>\n",
       "      <th>8</th>\n",
       "      <td>CRNKL1_highGain_cnv</td>\n",
       "      <td>0.017143</td>\n",
       "      <td>0.016660</td>\n",
       "    </tr>\n",
       "    <tr>\n",
       "      <th>9</th>\n",
       "      <td>5</td>\n",
       "      <td>0.014286</td>\n",
       "      <td>0.000000</td>\n",
       "    </tr>\n",
       "    <tr>\n",
       "      <th>10</th>\n",
       "      <td>HALLMARK_ANGIOGENESIS_expr</td>\n",
       "      <td>0.014286</td>\n",
       "      <td>0.000000</td>\n",
       "    </tr>\n",
       "    <tr>\n",
       "      <th>11</th>\n",
       "      <td>TGFBR2_mut</td>\n",
       "      <td>0.014286</td>\n",
       "      <td>0.009035</td>\n",
       "    </tr>\n",
       "    <tr>\n",
       "      <th>12</th>\n",
       "      <td>HALLMARK_UV_RESPONSE_UP_expr</td>\n",
       "      <td>0.011429</td>\n",
       "      <td>0.005714</td>\n",
       "    </tr>\n",
       "    <tr>\n",
       "      <th>13</th>\n",
       "      <td>HALLMARK_BILE_ACID_METABOLISM_expr</td>\n",
       "      <td>0.011429</td>\n",
       "      <td>0.005714</td>\n",
       "    </tr>\n",
       "    <tr>\n",
       "      <th>14</th>\n",
       "      <td>PLCB4_highGain_cnv</td>\n",
       "      <td>0.011429</td>\n",
       "      <td>0.005714</td>\n",
       "    </tr>\n",
       "    <tr>\n",
       "      <th>16</th>\n",
       "      <td>1</td>\n",
       "      <td>0.008571</td>\n",
       "      <td>0.006999</td>\n",
       "    </tr>\n",
       "    <tr>\n",
       "      <th>15</th>\n",
       "      <td>Left_clin</td>\n",
       "      <td>0.008571</td>\n",
       "      <td>0.006999</td>\n",
       "    </tr>\n",
       "    <tr>\n",
       "      <th>17</th>\n",
       "      <td>HALLMARK_HEDGEHOG_SIGNALING_expr</td>\n",
       "      <td>0.008571</td>\n",
       "      <td>0.011429</td>\n",
       "    </tr>\n",
       "    <tr>\n",
       "      <th>18</th>\n",
       "      <td>TRIP11_Loss_cnv</td>\n",
       "      <td>0.005714</td>\n",
       "      <td>0.011429</td>\n",
       "    </tr>\n",
       "    <tr>\n",
       "      <th>19</th>\n",
       "      <td>ARHGAP5_Loss_cnv</td>\n",
       "      <td>0.005714</td>\n",
       "      <td>0.011429</td>\n",
       "    </tr>\n",
       "  </tbody>\n",
       "</table>\n",
       "</div>"
      ],
      "text/plain": [
       "                               feature    weight       std\n",
       "0        KRAS_BRAF_NRAS_triple_neg_mut  0.148571  0.019378\n",
       "1                             KRAS_mut  0.065714  0.029416\n",
       "2                                    3  0.040000  0.005714\n",
       "3                             NRAS_mut  0.028571  0.020203\n",
       "4                                    4  0.025714  0.026186\n",
       "5                             TP53_mut  0.020000  0.014569\n",
       "6                            PCBP1_mut  0.020000  0.006999\n",
       "7                   FOXA2_highGain_cnv  0.017143  0.010690\n",
       "8                  CRNKL1_highGain_cnv  0.017143  0.016660\n",
       "9                                    5  0.014286  0.000000\n",
       "10          HALLMARK_ANGIOGENESIS_expr  0.014286  0.000000\n",
       "11                          TGFBR2_mut  0.014286  0.009035\n",
       "12        HALLMARK_UV_RESPONSE_UP_expr  0.011429  0.005714\n",
       "13  HALLMARK_BILE_ACID_METABOLISM_expr  0.011429  0.005714\n",
       "14                  PLCB4_highGain_cnv  0.011429  0.005714\n",
       "16                                   1  0.008571  0.006999\n",
       "15                           Left_clin  0.008571  0.006999\n",
       "17    HALLMARK_HEDGEHOG_SIGNALING_expr  0.008571  0.011429\n",
       "18                     TRIP11_Loss_cnv  0.005714  0.011429\n",
       "19                    ARHGAP5_Loss_cnv  0.005714  0.011429"
      ]
     },
     "execution_count": 10,
     "metadata": {},
     "output_type": "execute_result"
    }
   ],
   "source": [
    "explain_weights_df.sort_values('weight', ascending=False).head(20) "
   ]
  },
  {
   "cell_type": "code",
   "execution_count": 22,
   "metadata": {},
   "outputs": [
    {
     "data": {
      "text/plain": [
       "Text(0, 0.5, '')"
      ]
     },
     "execution_count": 22,
     "metadata": {},
     "output_type": "execute_result"
    },
    {
     "data": {
      "text/plain": [
       "Text(0.5, 0, 'ELI5 Permutation Importance')"
      ]
     },
     "execution_count": 22,
     "metadata": {},
     "output_type": "execute_result"
    },
    {
     "data": {
      "image/png": "[encoded data removed]",
      "text/plain": [
       "<Figure size 432x288 with 1 Axes>"
      ]
     },
     "metadata": {},
     "output_type": "display_data"
    }
   ],
   "source": [
    "plot_df = explain_weights_df.sort_values('weight', ascending=False).head(20) \n",
    "ax = sb.barplot(x=\"weight\",\n",
    "                    y=\"feature\",\n",
    "                    color='b', \n",
    "                    data=plot_df)\n",
    "ax.set_ylabel(\"\")\n",
    "ax.set_xlabel(\"ELI5 Permutation Importance\", fontsize=14)\n",
    "#plt.yticks(rotation=30)\n",
    "plt.savefig(\"ELI5_PermImportance_barplot.pdf\", \n",
    "                format='pdf', dpi=720, bbox_inches='tight')"
   ]
  },
  {
   "cell_type": "markdown",
   "metadata": {},
   "source": [
    "# Conclusions and Next Steps\n",
    "Summarize findings here"
   ]
  },
  {
   "cell_type": "code",
   "execution_count": null,
   "metadata": {},
   "outputs": [],
   "source": []
  }
 ],
 "metadata": {
  "kernelspec": {
   "display_name": "Python 3",
   "language": "python",
   "name": "python3"
  },
  "language_info": {
   "codemirror_mode": {
    "name": "ipython",
    "version": 3
   },
   "file_extension": ".py",
   "mimetype": "text/x-python",
   "name": "python",
   "nbconvert_exporter": "python",
   "pygments_lexer": "ipython3",
   "version": "3.8.5"
  }
 },
 "nbformat": 4,
 "nbformat_minor": 4
}
