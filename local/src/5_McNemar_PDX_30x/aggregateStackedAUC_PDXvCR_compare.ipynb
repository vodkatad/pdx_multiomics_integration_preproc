{
 "cells": [
  {
   "cell_type": "markdown",
   "metadata": {},
   "source": [
    "# Introduction\n",
    "State notebook purpose here"
   ]
  },
  {
   "cell_type": "markdown",
   "metadata": {},
   "source": [
    "### Imports\n",
    "Import libraries and write settings here."
   ]
  },
  {
   "cell_type": "code",
   "execution_count": 1,
   "metadata": {},
   "outputs": [],
   "source": [
    "\n",
    "import seaborn as sb\n",
    "import numpy as np\n",
    "import pandas as pd\n",
    "import pickle\n",
    "from scipy.spatial import distance\n",
    "\n",
    "from sklearn.metrics import roc_curve, auc, matthews_corrcoef, roc_auc_score, accuracy_score, classification_report, confusion_matrix, plot_confusion_matrix\n",
    "# Hyperparameter tuning\n",
    "\n",
    "# Visualizations\n",
    "import matplotlib.pyplot as plt\n",
    "from matplotlib.patches import Patch\n",
    "# Set default font size\n",
    "plt.rcParams['font.size'] = 24\n",
    "# Set default font size\n",
    "sb.set(font_scale=.8)\n",
    "custom_style = {'axes.labelcolor': 'black',\n",
    "                'xtick.color': 'black',\n",
    "                'ytick.color': 'black'}\n",
    "sb.set_style(\"white\", rc=custom_style)"
   ]
  },
  {
   "cell_type": "markdown",
   "metadata": {},
   "source": [
    "# Analysis/Modeling\n",
    "Do work here"
   ]
  },
  {
   "cell_type": "code",
   "execution_count": 2,
   "metadata": {},
   "outputs": [],
   "source": [
    "target_col =  \"Cetuximab_Standard_3wks_cat\"\n",
    "datadir = \"../../../dataset/5_McNemar_PDX_30x/\"\n",
    "tab_arr = []\n",
    "auc_arr = []\n",
    "split_index = 0\n",
    "for split_index in range(30):\n",
    "\t# load the model from file\n",
    "\tsuffix = str(split_index)\n",
    "\tf = \"OmicsBinary_StackingCVClassifier_mutCross+clin+exprPROGENyHALLMARKS+highCNagg+MethK5cluster\"\n",
    "\tmodelFile = datadir + f + suffix + \".pkl\"\n",
    "\tclassifier = pickle.load(open(modelFile, 'rb'))\n",
    "\t# load test set\n",
    "\tf = \"mutCross+clin+exprPROGENyHALLMARKS+highCNagg+MethK5cluster\"\n",
    "\tXtestFile = datadir + f + suffix + \"_Xtest.tsv\"\n",
    "\tX_test = pd.read_csv(XtestFile, sep=\"\\t\", header=0, index_col=0)\n",
    "\tf = \"OmicsBinary\"\n",
    "\tYtestFile = datadir + f + suffix + \"_Ytest.tsv\"\n",
    "\ty_test = pd.read_csv(YtestFile, sep=\"\\t\", header=0,\n",
    "\t\t\t\tindex_col=0)[target_col]\n",
    "\ty_test_predict_proba = classifier.predict_proba(X_test)\n",
    "\tfp_rates, tp_rates, _ = roc_curve(y_test,y_test_predict_proba[:,1])\n",
    "\tout_df = pd.DataFrame.from_dict({\n",
    "\t\t\"replicate\" : [suffix] * len(fp_rates),\n",
    "\t\t\"fp_rate\" : fp_rates,\n",
    "\t\t\"tp_rate\" : tp_rates\n",
    "\t})\n",
    "\ttab_arr.append(out_df)\n",
    "\troc_auc = auc(fp_rates, tp_rates)\n",
    "\tauc_arr.append([suffix, roc_auc, 'StackedCVClassifier', 'PDX_test'])\n",
    "rates1_df = pd.concat(tab_arr)\n",
    "rates1_df[\"model\"] = ['StackedCVClassifier'] * len(rates1_df)\n",
    "rates1_df[\"test_set\"] = ['PDX_test'] * len(rates1_df)\n",
    "rates1_df.shape\n",
    "rates1_df.head()\n",
    "\n",
    "auc1_df = pd.DataFrame(auc_arr, \n",
    "\tcolumns=['replicate', 'roc_auc', 'model', 'test_set'])"
   ]
  },
  {
   "cell_type": "code",
   "execution_count": 3,
   "metadata": {},
   "outputs": [],
   "source": [
    "tab_arr = []\n",
    "auc_arr = []\n",
    "split_index = 0\n",
    "for split_index in range(30):\n",
    "\t# load the model from file\n",
    "\tsuffix = str(split_index)\n",
    "\tf = \"OmicsBinary_StackingCVClassifier_mutCross+clin+exprPROGENyHALLMARKS+highCNagg+MethK5cluster\"\n",
    "\tmodelFile = datadir + f + suffix + \".pkl\"\n",
    "\tclassifier = pickle.load(open(modelFile, 'rb'))\n",
    "\t# load test set\n",
    "\tf = \"CR_mutCross+clin+exprPROGENyHALLMARKS+highCNagg+MethK5cluster\"\n",
    "\tXtestFile = datadir + f + suffix + \"_Xtest.tsv\"\n",
    "\tX_test = pd.read_csv(XtestFile, sep=\"\\t\", header=0, index_col=0)\n",
    "\tf = \"CR_OmicsBinary\"\n",
    "\tYtestFile = datadir + f + suffix + \"_Ytest.tsv\"\n",
    "\ty_test = pd.read_csv(YtestFile, sep=\"\\t\", header=0,\n",
    "\t\t\t\tindex_col=0)\n",
    "\ty_test_predict_proba = classifier.predict_proba(X_test)\n",
    "\tfp_rates, tp_rates, _ = roc_curve(y_test,y_test_predict_proba[:,1])\n",
    "\tout_df = pd.DataFrame.from_dict({\n",
    "\t\t\"replicate\" : [suffix] * len(fp_rates),\n",
    "\t\t\"fp_rate\" : fp_rates,\n",
    "\t\t\"tp_rate\" : tp_rates\n",
    "\t})\n",
    "\ttab_arr.append(out_df)\n",
    "\troc_auc = auc(fp_rates, tp_rates)\n",
    "\tauc_arr.append([suffix, roc_auc, 'StackedCVClassifier', 'CR_test'])\n",
    "rates2_df = pd.concat(tab_arr)\n",
    "rates2_df[\"model\"] = ['StackedCVClassifier'] * len(rates2_df)\n",
    "rates2_df[\"test_set\"] = ['CR_test'] * len(rates2_df)\n",
    "rates2_df.shape\n",
    "rates2_df.head()\n",
    "\n",
    "auc2_df = pd.DataFrame(auc_arr, \n",
    "\tcolumns=['replicate', 'roc_auc', 'model', 'test_set'])"
   ]
  },
  {
   "cell_type": "code",
   "execution_count": 4,
   "metadata": {},
   "outputs": [],
   "source": [
    "rates_df = pd.concat([rates1_df, rates2_df])\n",
    "auc_df = pd.concat([auc1_df, auc2_df]) "
   ]
  },
  {
   "cell_type": "markdown",
   "metadata": {},
   "source": [
    "# Results\n",
    "Show graphs and stats here"
   ]
  },
  {
   "cell_type": "code",
   "execution_count": null,
   "metadata": {},
   "outputs": [],
   "source": [
    "fig, ax = plt.subplots(figsize=(6,6))\n",
    "sb.lineplot(data=rates_df, \n",
    "        x=\"fp_rate\", \n",
    "        y=\"tp_rate\",\n",
    "        hue='test_set',\n",
    "        palette=['green', 'pink'],\n",
    "        lw=1.5,\n",
    "        ax=ax)\n",
    "\n",
    "ax.plot([0, 1], [\n",
    "        0, 1], \n",
    "        lw=1, \n",
    "        linestyle='--', \n",
    "        color='grey')\n",
    "\n",
    "ax.legend()\n",
    "ax.set_xlim([0.0, 1.01])\n",
    "ax.set_ylim([0.0, 1])\n",
    "ax.set_xlabel('False Positive Rate', size=13)\n",
    "ax.set_ylabel('True Positive Rate', size=13)\n",
    "ax.set_title('ROC Curve PDX (N=57) v CR (N=50) test set', size=15)\n",
    "fig.savefig(f\"externalValidation_aggregateROCAUC_PDXvCR_ROCcurve.pdf\", format='pdf', \n",
    "            bbox_inches='tight', dpi=fig.dpi)\n",
    "fig.savefig(f\"externalValidation_aggregateROCAUC_PDXvCR_ROCcurve.png\", format='png', \n",
    "            bbox_inches='tight', dpi=fig.dpi)"
   ]
  },
  {
   "cell_type": "code",
   "execution_count": 12,
   "metadata": {},
   "outputs": [
    {
     "data": {
      "text/plain": [
       "1.0    49\n",
       "0.0     1\n",
       "Name: KRAS_BRAF_NRAS_triple_neg_mut, dtype: int64"
      ]
     },
     "execution_count": 12,
     "metadata": {},
     "output_type": "execute_result"
    }
   ],
   "source": [
    "f = datadir + 'CR_mutCross+clin+exprPROGENyHALLMARKS+highCNagg+MethK5cluster0_Xtest.tsv'\n",
    "X_test = pd.read_csv(f, sep='\\t',\n",
    "\t\theader=0, index_col=0)\n",
    "X_test['KRAS_BRAF_NRAS_triple_neg_mut'].value_counts()"
   ]
  },
  {
   "cell_type": "code",
   "execution_count": 8,
   "metadata": {},
   "outputs": [
    {
     "data": {
      "image/png": "[encoded data removed]",
      "text/plain": [
       "<Figure size 576x432 with 1 Axes>"
      ]
     },
     "metadata": {},
     "output_type": "display_data"
    }
   ],
   "source": [
    "\n",
    "fig, ax = plt.subplots(figsize=(8,6))\n",
    "fig.subplots_adjust(hspace=0.5)\n",
    "\n",
    "ax = sb.boxplot(x=\"roc_auc\", y=\"test_set\", \n",
    "\tnotch=True, \n",
    "\tdata=auc_df, \n",
    "\tboxprops={'facecolor':'None'}, \n",
    "\twhis=np.inf, ax=ax)\n",
    "ax = sb.swarmplot(x=\"roc_auc\", y=\"test_set\", \n",
    "\tdata=auc_df,\n",
    "\ts=10, ax=ax)\n",
    "ax.set_title(f'ROC Curve PDX (N=57) v CR (N=50) test set')\n",
    "ax.set_xlim(.45,.95)\n",
    "\n",
    "ax.set_ylabel('')\n",
    "fig.savefig(f\"externalValidation_aggregateROCAUC_PDXvCR_boxplot.pdf\", format='pdf', \n",
    "            bbox_inches='tight', dpi=fig.dpi)\n",
    "fig.savefig(f\"externalValidation_aggregateROCAUC_PDXvCR_boxplot.png\", format='png', \n",
    "            bbox_inches='tight', dpi=fig.dpi)"
   ]
  },
  {
   "cell_type": "code",
   "execution_count": null,
   "metadata": {},
   "outputs": [],
   "source": []
  },
  {
   "cell_type": "markdown",
   "metadata": {},
   "source": [
    "# Conclusions and Next Steps\n",
    "Summarize findings here"
   ]
  },
  {
   "cell_type": "code",
   "execution_count": null,
   "metadata": {},
   "outputs": [],
   "source": []
  }
 ],
 "metadata": {
  "kernelspec": {
   "display_name": "Python 3",
   "language": "python",
   "name": "python3"
  },
  "language_info": {
   "codemirror_mode": {
    "name": "ipython",
    "version": 3
   },
   "file_extension": ".py",
   "mimetype": "text/x-python",
   "name": "python",
   "nbconvert_exporter": "python",
   "pygments_lexer": "ipython3",
   "version": "3.8.5"
  }
 },
 "nbformat": 4,
 "nbformat_minor": 4
}
