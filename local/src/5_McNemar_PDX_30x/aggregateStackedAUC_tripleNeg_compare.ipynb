{
 "cells": [
  {
   "cell_type": "markdown",
   "metadata": {},
   "source": [
    "# Introduction\n",
    "State notebook purpose here"
   ]
  },
  {
   "cell_type": "markdown",
   "metadata": {},
   "source": [
    "### Imports\n",
    "Import libraries and write settings here."
   ]
  },
  {
   "cell_type": "code",
   "execution_count": 1,
   "metadata": {},
   "outputs": [],
   "source": [
    "\n",
    "import seaborn as sb\n",
    "import numpy as np\n",
    "import pandas as pd\n",
    "import pickle\n",
    "from scipy.spatial import distance\n",
    "\n",
    "from sklearn.metrics import roc_curve, auc, matthews_corrcoef, roc_auc_score, accuracy_score, classification_report, confusion_matrix, plot_confusion_matrix\n",
    "# Hyperparameter tuning\n",
    "\n",
    "# Visualizations\n",
    "import matplotlib.pyplot as plt\n",
    "from matplotlib.patches import Patch\n",
    "# Set default font size\n",
    "plt.rcParams['font.size'] = 24\n",
    "# Set default font size\n",
    "sb.set(font_scale=.8)\n",
    "custom_style = {'axes.labelcolor': 'black',\n",
    "                'xtick.color': 'black',\n",
    "                'ytick.color': 'black'}\n",
    "sb.set_style(\"white\", rc=custom_style)"
   ]
  },
  {
   "cell_type": "markdown",
   "metadata": {},
   "source": [
    "# Analysis/Modeling\n",
    "Do work here"
   ]
  },
  {
   "cell_type": "code",
   "execution_count": 2,
   "metadata": {},
   "outputs": [
    {
     "data": {
      "text/html": [
       "<div>\n",
       "<style scoped>\n",
       "    .dataframe tbody tr th:only-of-type {\n",
       "        vertical-align: middle;\n",
       "    }\n",
       "\n",
       "    .dataframe tbody tr th {\n",
       "        vertical-align: top;\n",
       "    }\n",
       "\n",
       "    .dataframe thead th {\n",
       "        text-align: right;\n",
       "    }\n",
       "</style>\n",
       "<table border=\"1\" class=\"dataframe\">\n",
       "  <thead>\n",
       "    <tr style=\"text-align: right;\">\n",
       "      <th></th>\n",
       "      <th>replicate</th>\n",
       "      <th>fp_rate</th>\n",
       "      <th>tp_rate</th>\n",
       "      <th>model</th>\n",
       "    </tr>\n",
       "  </thead>\n",
       "  <tbody>\n",
       "    <tr>\n",
       "      <th>0</th>\n",
       "      <td>0</td>\n",
       "      <td>0.000000</td>\n",
       "      <td>0.000000</td>\n",
       "      <td>StackedCVClassifier</td>\n",
       "    </tr>\n",
       "    <tr>\n",
       "      <th>1</th>\n",
       "      <td>0</td>\n",
       "      <td>0.000000</td>\n",
       "      <td>0.108108</td>\n",
       "      <td>StackedCVClassifier</td>\n",
       "    </tr>\n",
       "    <tr>\n",
       "      <th>2</th>\n",
       "      <td>0</td>\n",
       "      <td>0.000000</td>\n",
       "      <td>0.243243</td>\n",
       "      <td>StackedCVClassifier</td>\n",
       "    </tr>\n",
       "    <tr>\n",
       "      <th>3</th>\n",
       "      <td>0</td>\n",
       "      <td>0.030303</td>\n",
       "      <td>0.351351</td>\n",
       "      <td>StackedCVClassifier</td>\n",
       "    </tr>\n",
       "    <tr>\n",
       "      <th>4</th>\n",
       "      <td>0</td>\n",
       "      <td>0.030303</td>\n",
       "      <td>0.459459</td>\n",
       "      <td>StackedCVClassifier</td>\n",
       "    </tr>\n",
       "  </tbody>\n",
       "</table>\n",
       "</div>"
      ],
      "text/plain": [
       "  replicate   fp_rate   tp_rate                model\n",
       "0         0  0.000000  0.000000  StackedCVClassifier\n",
       "1         0  0.000000  0.108108  StackedCVClassifier\n",
       "2         0  0.000000  0.243243  StackedCVClassifier\n",
       "3         0  0.030303  0.351351  StackedCVClassifier\n",
       "4         0  0.030303  0.459459  StackedCVClassifier"
      ]
     },
     "execution_count": 2,
     "metadata": {},
     "output_type": "execute_result"
    }
   ],
   "source": [
    "target_col =  \"Cetuximab_Standard_3wks_cat\"\n",
    "datadir = \"../../../dataset/5_McNemar_PDX_30x/\"\n",
    "tab_arr = []\n",
    "split_index = 0\n",
    "for split_index in range(30):\n",
    "\t# load the model from file\n",
    "\tsuffix = str(split_index)\n",
    "\tf = \"OmicsBinary_StackingCVClassifier_mutCross+clin+exprPROGENyHALLMARKS+highCNagg+MethK5cluster\"\n",
    "\tmodelFile = datadir + f + suffix + \".pkl\"\n",
    "\tclassifier = pickle.load(open(modelFile, 'rb'))\n",
    "\t# load test set\n",
    "\tf = \"mutCross+clin+exprPROGENyHALLMARKS+highCNagg+MethK5cluster\"\n",
    "\tXtestFile = datadir + f + suffix + \"_Xtest.tsv\"\n",
    "\tX_test = pd.read_csv(XtestFile, sep=\"\\t\", header=0, index_col=0)\n",
    "\tf = \"OmicsBinary\"\n",
    "\tYtestFile = datadir + f + suffix + \"_Ytest.tsv\"\n",
    "\ty_test = pd.read_csv(YtestFile, sep=\"\\t\", header=0,\n",
    "\t\t\t\tindex_col=0)[target_col]\n",
    "\ty_test_predict_proba = classifier.predict_proba(X_test)\n",
    "\tfp_rates, tp_rates, _ = roc_curve(y_test,y_test_predict_proba[:,1])\n",
    "\tout_df = pd.DataFrame.from_dict({\n",
    "\t\t\"replicate\" : [suffix] * len(fp_rates),\n",
    "\t\t\"fp_rate\" : fp_rates,\n",
    "\t\t\"tp_rate\" : tp_rates\n",
    "\t})\n",
    "\ttab_arr.append(out_df)\n",
    "rates_df = pd.concat(tab_arr)\n",
    "rates_df[\"model\"] = ['StackedCVClassifier'] * len(rates_df)\n",
    "rates_df.shape\n",
    "rates_df.head()"
   ]
  },
  {
   "cell_type": "code",
   "execution_count": 3,
   "metadata": {},
   "outputs": [],
   "source": [
    "f1 = '../../../dataset/5_McNemar_PDX_30x/OmicsBinary_StackingCVClassifier_mutCross+clin+exprPROGENyHALLMARKS+highCNagg+MethK5cluster_perfTab.tsv'\n",
    "df1 = pd.read_csv(f1, sep='\\t', header=0, index_col=0)\n",
    "df1['test_set'] = ['full']*len(df1)\n",
    "f2 = '../../../dataset/5_McNemar_PDX_30x/tripleNegONLY_OmicsBinary_StackingCVClassifier_mutCross+clin+exprPROGENyHALLMARKS+highCNagg+MethK5cluster_perfTab.tsv'\n",
    "df2 = pd.read_csv(f2, sep='\\t', header=0, index_col=0)\n",
    "df2['test_set'] = ['tripleNegOnly']*len(df2)\n",
    "f3 = '../../../dataset/5_McNemar_PDX_30x/CMPvPDX_OmicsBinary_StackingCVClassifier_mutCross+exprPROGENyHALLMARKS+highCNagg_perfTab.tsv' \n",
    "df3 = pd.read_csv(f3, sep='\\t', header=0, index_col=0)\n",
    "df3['test_set'] = ['mut+CNV+expr']*len(df3)\n",
    "\n"
   ]
  },
  {
   "cell_type": "code",
   "execution_count": 5,
   "metadata": {},
   "outputs": [
    {
     "data": {
      "text/plain": [
       "0.24722222222222223"
      ]
     },
     "execution_count": 5,
     "metadata": {},
     "output_type": "execute_result"
    }
   ],
   "source": [
    "plot_data =pd.concat([df1, df3[df3.model_name == 'CMPstackedCVClassifier']])\n",
    "plot_data[\"FPR\"] = plot_data['true_PD__pred_SD-OR'] /\\\n",
    "\t(plot_data['true_PD__pred_SD-OR'] + plot_data['true_SD-OR__pred_SD-OR']) \n",
    "medianFPR_tripleNeg = plot_data[\n",
    "\tplot_data.model_name == 'KRAS_BRAF_NRAS_triple_neg'].FPR.median()\n",
    "medianFPR_tripleNeg "
   ]
  },
  {
   "cell_type": "code",
   "execution_count": 7,
   "metadata": {},
   "outputs": [
    {
     "data": {
      "text/plain": [
       "0.8918918918918919"
      ]
     },
     "execution_count": 7,
     "metadata": {},
     "output_type": "execute_result"
    }
   ],
   "source": [
    "\n",
    "#  TP / (TP+FN)\n",
    "plot_data[\"TPR\"] = plot_data['true_SD-OR__pred_SD-OR'] /\\\n",
    "\t(plot_data['true_SD-OR__pred_SD-OR'] + plot_data['true_SD-OR__pred_PD']) \n",
    "medianTPR_tripleNeg = plot_data[\n",
    "\tplot_data.model_name == 'KRAS_BRAF_NRAS_triple_neg'].TPR.median()\n",
    "medianTPR_tripleNeg "
   ]
  },
  {
   "cell_type": "markdown",
   "metadata": {},
   "source": [
    "# Results\n",
    "Show graphs and stats here"
   ]
  },
  {
   "cell_type": "code",
   "execution_count": 10,
   "metadata": {},
   "outputs": [
    {
     "data": {
      "image/png": "[encoded data removed]",
      "text/plain": [
       "<Figure size 432x432 with 1 Axes>"
      ]
     },
     "metadata": {},
     "output_type": "display_data"
    }
   ],
   "source": [
    "fig, ax = plt.subplots(figsize=(6,6))\n",
    "sb.lineplot(data=rates_df, \n",
    "        x=\"fp_rate\", \n",
    "        y=\"tp_rate\",\n",
    "        hue='model',\n",
    "        palette=['green'],\n",
    "        lw=1.5,\n",
    "        ax=ax)\n",
    "\n",
    "ax.plot([0, 1], [\n",
    "        0, 1], \n",
    "        lw=1, \n",
    "        linestyle='--', \n",
    "        color='grey')\n",
    "ax.axvline(medianFPR_tripleNeg, ls=':', c='k', \n",
    "        label='KRAS-BRAF-NRAS tripleNeg median')\n",
    "ax.scatter(medianFPR_tripleNeg, medianTPR_tripleNeg, \n",
    "        c='blue', label='KRAS-BRAF-NRAS tripleNeg decision point')\n",
    "ax.axhline(medianTPR_tripleNeg, ls=':', c='k', \n",
    "        label='KRAS-BRAF-NRAS tripleNeg median')\n",
    "ax.legend()\n",
    "ax.set_xlim([0.0, 1.01])\n",
    "ax.set_ylim([0.0, 1])\n",
    "ax.set_xlabel('False Positive Rate', size=13)\n",
    "ax.set_ylabel('True Positive Rate', size=13)\n",
    "ax.set_title('ROC Curve', size=15)\n",
    "fig.savefig(f\"internalValidation_aggregateROCAUC_StackedVtripleNeg_ROCcurve.pdf\", format='pdf', \n",
    "            bbox_inches='tight', dpi=fig.dpi)\n",
    "fig.savefig(f\"internalValidation_aggregateROCAUC_StackedVtripleNeg_ROCcurve.png\", format='png', \n",
    "            bbox_inches='tight', dpi=fig.dpi)"
   ]
  },
  {
   "cell_type": "markdown",
   "metadata": {},
   "source": [
    "# Conclusions and Next Steps\n",
    "Summarize findings here"
   ]
  },
  {
   "cell_type": "code",
   "execution_count": null,
   "metadata": {},
   "outputs": [],
   "source": []
  }
 ],
 "metadata": {
  "kernelspec": {
   "display_name": "Python 3",
   "language": "python",
   "name": "python3"
  },
  "language_info": {
   "codemirror_mode": {
    "name": "ipython",
    "version": 3
   },
   "file_extension": ".py",
   "mimetype": "text/x-python",
   "name": "python",
   "nbconvert_exporter": "python",
   "pygments_lexer": "ipython3",
   "version": "3.8.5"
  }
 },
 "nbformat": 4,
 "nbformat_minor": 4
}
