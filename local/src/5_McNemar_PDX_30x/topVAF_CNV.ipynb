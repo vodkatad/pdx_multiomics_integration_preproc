{
 "cells": [
  {
   "cell_type": "markdown",
   "metadata": {},
   "source": [
    "# Introduction\n",
    "State notebook purpose here"
   ]
  },
  {
   "cell_type": "markdown",
   "metadata": {},
   "source": [
    "### Imports\n",
    "Import libraries and write settings here."
   ]
  },
  {
   "cell_type": "code",
   "execution_count": 2,
   "metadata": {},
   "outputs": [],
   "source": [
    "# Data manipulation\n",
    "import pandas as pd\n",
    "import numpy as np\n",
    "\n",
    "# Options for pandas\n",
    "# No warnings about setting value on copy of slice\n",
    "pd.options.mode.chained_assignment = None\n",
    "pd.options.display.max_columns = 600\n",
    "pd.options.display.max_rows = 30\n",
    "\n",
    "# Display all cell outputs\n",
    "from IPython.core.interactiveshell import InteractiveShell\n",
    "InteractiveShell.ast_node_interactivity = 'all'\n",
    "\n",
    "from IPython import get_ipython\n",
    "ipython = get_ipython()\n",
    "\n",
    "# autoreload extension\n",
    "if 'autoreload' not in ipython.extension_manager.loaded:\n",
    "    %load_ext autoreload\n",
    "\n",
    "%autoreload 2\n",
    "\n",
    "# Visualizations\n",
    "import matplotlib.pyplot as plt\n",
    "# Set default font size\n",
    "plt.rcParams['font.size'] = 24\n",
    "import seaborn as sb\n",
    "# Set default font size\n",
    "sb.set(font_scale = .8)\n",
    "custom_style = {'axes.labelcolor': 'black',\n",
    "                'xtick.color': 'black',\n",
    "                'ytick.color': 'black'}\n",
    "sb.set_style(\"white\", rc=custom_style)\n",
    "\n",
    "\n",
    "# Interactive Visualizations\n",
    "# import plotly.plotly as py\n",
    "# import plotly.graph_objs as go\n",
    "# from plotly.offline import iplot, init_notebook_mode\n",
    "# init_notebook_mode(connected=True)\n",
    "\n",
    "# import cufflinks as cf\n",
    "# cf.go_offline(connected=True)\n",
    "# icf.set_config_file(theme='white')"
   ]
  },
  {
   "cell_type": "markdown",
   "metadata": {},
   "source": [
    "# Analysis/Modeling\n",
    "Do work here"
   ]
  },
  {
   "cell_type": "code",
   "execution_count": 8,
   "metadata": {},
   "outputs": [
    {
     "data": {
      "text/plain": [
       "APC       0.891775\n",
       "TP53      0.826840\n",
       "KRAS      0.281385\n",
       "PIK3CA    0.164502\n",
       "SMAD4     0.116883\n",
       "FBXW7     0.073593\n",
       "MSH3      0.064935\n",
       "BRCA2     0.060606\n",
       "ATM       0.056277\n",
       "SOX9      0.056277\n",
       "NRAS      0.056277\n",
       "PTEN      0.051948\n",
       "ARID1A    0.038961\n",
       "ACVR2A    0.038961\n",
       "KDR       0.038961\n",
       "ASXL1     0.034632\n",
       "NF1       0.034632\n",
       "CREBBP    0.034632\n",
       "AXIN2     0.034632\n",
       "BRAF      0.034632\n",
       "dtype: float64"
      ]
     },
     "execution_count": 8,
     "metadata": {},
     "output_type": "execute_result"
    }
   ],
   "source": [
    "# parse preprocessed PDX driver mutation data\n",
    "datadir = '../../../dataset/5_McNemar_PDX_30x/'\n",
    "f = datadir + 'preproc_mut0.tsv'\n",
    "mut_df = pd.read_csv(f, sep='\\t', header=0, index_col=0)\n",
    "# drop engineered features\n",
    "todrop = [c for c in mut_df.columns if '_' in c]\n",
    "# calc mutation ratio for gene in PDX dataset\n",
    "mut_df.drop(todrop, axis=1).sum().\\\n",
    "\tsort_values(ascending=False).head(20) / len(mut_df)"
   ]
  },
  {
   "cell_type": "code",
   "execution_count": 11,
   "metadata": {},
   "outputs": [
    {
     "data": {
      "text/plain": [
       "SMAD4_Loss        0.904977\n",
       "BCL2_Loss         0.904977\n",
       "DCC_Loss          0.900452\n",
       "TCF4_Loss         0.895928\n",
       "SMAD2_Loss        0.859729\n",
       "ZNF521_Loss       0.787330\n",
       "MAP2K4_Loss       0.751131\n",
       "ARHGEF10_Loss     0.751131\n",
       "USP6_Loss         0.742081\n",
       "NCOR1_Loss        0.742081\n",
       "TP53_Loss         0.742081\n",
       "RABEP1_Loss       0.742081\n",
       "FLCN_Loss         0.733032\n",
       "TGIF1_Loss        0.723982\n",
       "PMS2_Gain         0.701357\n",
       "RAC1_Gain         0.701357\n",
       "RSPH10B2_Gain     0.701357\n",
       "WRN_Loss          0.701357\n",
       "CARD11_Gain       0.696833\n",
       "HNRNPA2B1_Gain    0.692308\n",
       "dtype: float64"
      ]
     },
     "execution_count": 11,
     "metadata": {},
     "output_type": "execute_result"
    }
   ],
   "source": [
    "f = datadir + 'preproc_CNV.tsv'\n",
    "cnv_df = pd.read_csv(f, sep='\\t', header=0, index_col=0)\n",
    "# drop engineered features\n",
    "todrop = [c for c in cnv_df.columns if '_count' in c]\n",
    "# calc cnvation ratio for gene in PDX dataset\n",
    "cnv_df.drop(todrop, axis=1).sum().\\\n",
    "\tsort_values(ascending=False).head(20) / len(cnv_df)"
   ]
  },
  {
   "cell_type": "code",
   "execution_count": 19,
   "metadata": {},
   "outputs": [
    {
     "data": {
      "text/plain": [
       "0.3936651583710407"
      ]
     },
     "execution_count": 19,
     "metadata": {},
     "output_type": "execute_result"
    },
    {
     "data": {
      "text/plain": [
       "0.01809954751131222"
      ]
     },
     "execution_count": 19,
     "metadata": {},
     "output_type": "execute_result"
    }
   ],
   "source": [
    "cnv_freq_df = cnv_df.drop(todrop, axis=1).sum().\\\n",
    "\tsort_values(ascending=False) / len(cnv_df)\n",
    "cnv_freq_df.loc['ERBB2_Gain']\n",
    "cnv_freq_df.loc['ERBB2_highGain']"
   ]
  },
  {
   "cell_type": "code",
   "execution_count": null,
   "metadata": {},
   "outputs": [],
   "source": []
  },
  {
   "cell_type": "markdown",
   "metadata": {},
   "source": [
    "# Results\n",
    "Show graphs and stats here"
   ]
  },
  {
   "cell_type": "markdown",
   "metadata": {},
   "source": [
    "# Conclusions and Next Steps\n",
    "Summarize findings here"
   ]
  },
  {
   "cell_type": "code",
   "execution_count": null,
   "metadata": {},
   "outputs": [],
   "source": []
  }
 ],
 "metadata": {
  "kernelspec": {
   "display_name": "Python 3",
   "language": "python",
   "name": "python3"
  },
  "language_info": {
   "codemirror_mode": {
    "name": "ipython",
    "version": 3
   },
   "file_extension": ".py",
   "mimetype": "text/x-python",
   "name": "python",
   "nbconvert_exporter": "python",
   "pygments_lexer": "ipython3",
   "version": "3.8.5"
  }
 },
 "nbformat": 4,
 "nbformat_minor": 4
}
